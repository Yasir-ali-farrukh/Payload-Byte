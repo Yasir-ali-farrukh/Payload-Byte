{
 "cells": [
  {
   "cell_type": "markdown",
   "id": "bc49dd8e",
   "metadata": {},
   "source": [
    "# Pipeline For Computing Complete Payload Data\n",
    "\n",
    "This pipeline is created for the ease of users willing to generate the complete data on their own. There are few things that should be kept in mind before executing this. \n",
    "\n",
    ">1. You should have enough space in your hard drive before executing this notebook. Approximately you should have atleast 400GB of space for storing and saving results of PCAP files.\n",
    ">2. This notebook is compatible with python version 3.9.7. \n",
    ">3. Developed parser is based on Scapy module. Make sure it is installed. \n",
    ">4. Code processing might requrie high RAM space, therefore if you are on low resources try other method. \n"
   ]
  },
  {
   "cell_type": "code",
   "execution_count": 1,
   "id": "4f76711f",
   "metadata": {},
   "outputs": [],
   "source": [
    "import os\n",
    "import pandas as pd\n",
    "import numpy as np\n",
    "from datetime import datetime\n",
    "from functions.Pipeline import *"
   ]
  },
  {
   "cell_type": "markdown",
   "id": "5213dc11",
   "metadata": {},
   "source": [
    "#### There are three inputs for the pipeline:\n",
    "\n",
    ">1. In_directory (in_dir) = The directory where PCAP files are stored. For UNSW there are two folders wheras for CICIDS there are five individual files.\n",
    ">2. Out_directory (out_dir) = The directory where you want the outcome of the tool to be stored.\n",
    ">3. Dataset Name= `UNSW` or `CICIDS`.\n",
    ">4. Processed CSV File = Combined and processed CSV file. For processing the CSV files navigate to `CSV_data_preprocessing` folder"
   ]
  },
  {
   "cell_type": "code",
   "execution_count": 5,
   "id": "f375feca",
   "metadata": {},
   "outputs": [],
   "source": [
    "in_dir='F:/CICIDS'\n",
    "out_dir=\"F:/CICIDS_results\"\n",
    "Dataset_name='UNSW'\n",
    "processed_csv_file=\"F:/Project_Data/NIDS/CSV-Files-CICIDS-2017/Preprocessed-Data/CICIDS.csv\""
   ]
  },
  {
   "cell_type": "code",
   "execution_count": null,
   "id": "0c0a1d55",
   "metadata": {},
   "outputs": [],
   "source": [
    "pipeline(in_dir,out_dir,Dataset_name,processed_csv_file)"
   ]
  }
 ],
 "metadata": {
  "kernelspec": {
   "display_name": "Python 3 (ipykernel)",
   "language": "python",
   "name": "python3"
  },
  "language_info": {
   "codemirror_mode": {
    "name": "ipython",
    "version": 3
   },
   "file_extension": ".py",
   "mimetype": "text/x-python",
   "name": "python",
   "nbconvert_exporter": "python",
   "pygments_lexer": "ipython3",
   "version": "3.7.13"
  }
 },
 "nbformat": 4,
 "nbformat_minor": 5
}
