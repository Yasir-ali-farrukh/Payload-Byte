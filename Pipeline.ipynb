{
 "cells": [
  {
   "cell_type": "markdown",
   "id": "bc49dd8e",
   "metadata": {},
   "source": [
    "# Pipeline For Computing Complete Payload Data\n",
    "\n",
    "This pipeline is created for the ease of users willing to generate the complete data on their own. There are few things that should be kept in mind before executing this. \n",
    "\n",
    ">1. You should have enough space in your hard drive before executing this notebook. Approximately you should have atleast 400GB of space for storing and saving results of PCAP files.\n",
    ">2. This notebook is compatible with python version 3.7.13. \n",
    ">3. Developed parser is based on Scapy module. Make sure it is installed. \n",
    ">4. Code processing might requrie high RAM space, therefore if you are on low resources try other method. \n"
   ]
  },
  {
   "cell_type": "code",
   "execution_count": 1,
   "id": "4f76711f",
   "metadata": {},
   "outputs": [
    {
     "name": "stderr",
     "output_type": "stream",
     "text": [
      "/opt/conda/lib/python3.9/site-packages/scapy/layers/ipsec.py:471: CryptographyDeprecationWarning: Blowfish has been deprecated\n",
      "  cipher=algorithms.Blowfish,\n",
      "/opt/conda/lib/python3.9/site-packages/scapy/layers/ipsec.py:485: CryptographyDeprecationWarning: CAST5 has been deprecated\n",
      "  cipher=algorithms.CAST5,\n"
     ]
    }
   ],
   "source": [
    "from imblearn.under_sampling import RandomUnderSampler\n",
    "from Functions.Pipeline import pipeline\n",
    "import pandas as pd\n",
    "import numpy as np\n",
    "from sklearn.preprocessing import LabelEncoder"
   ]
  },
  {
   "cell_type": "markdown",
   "id": "5213dc11",
   "metadata": {},
   "source": [
    "#### There are three inputs for the pipeline:\n",
    "\n",
    ">1. In_directory (in_dir) = The directory where PCAP files are stored. For UNSW there are two folders wheras for CICIDS there are five individual files.\n",
    ">2. Out_directory (out_dir) = The directory where you want the outcome of the tool to be stored.\n",
    ">3. Dataset Name= `UNSW` or `CICIDS`.\n",
    ">4. Processed CSV File = The directory for combined and processed CSV file. For processing the CSV files navigate to `CSV_data_preprocessing` folder. MUST BE RUN BEFORE PIPELINE."
   ]
  },
  {
   "cell_type": "code",
   "execution_count": 2,
   "id": "f375feca",
   "metadata": {},
   "outputs": [],
   "source": [
    "in_dir = \"/home/jovyan/wire/DataSets/UNSW-NB15/UNSW-NB15 - pcap files\"\n",
    "out_dir = \"/home/jovyan/UNSW_results\"\n",
    "Dataset_name = \"UNSW\"\n",
    "processed_csv_file = \"/home/jovyan/payload-byte-data/UNSW-NB15_processed.csv\""
   ]
  },
  {
   "cell_type": "code",
   "execution_count": null,
   "id": "0c0a1d55",
   "metadata": {},
   "outputs": [
    {
     "name": "stderr",
     "output_type": "stream",
     "text": [
      "2022-11-18 18:34:07,128 - INFO -Checking directory for files ......\n",
      "2022-11-18 18:34:07,131 - INFO -Files found. Initiating PCAP Parsing.......\n",
      "2022-11-18 18:34:07,134 - INFO -Expected 80 files, found 80 files.\n",
      "2022-11-18 18:34:07,135 - INFO -Parsing UNSW PCAP files .........\n",
      "2022-11-18 18:34:07,136 - INFO -Reading input file:  /home/jovyan/wire/DataSets/UNSW-NB15/UNSW-NB15 - pcap files/pcaps 22-1-2015/1.pcap\n",
      "2022-11-18 18:34:30,486 - INFO -Done with 100000 Packets\n",
      "2022-11-18 18:34:54,312 - INFO -Done with 200000 Packets\n",
      "2022-11-18 18:35:18,381 - INFO -Done with 300000 Packets\n",
      "2022-11-18 18:35:42,220 - INFO -Done with 400000 Packets\n",
      "2022-11-18 18:36:05,983 - INFO -Done with 500000 Packets\n"
     ]
    }
   ],
   "source": [
    "df = pipeline(in_dir, out_dir, Dataset_name, processed_csv_file)"
   ]
  },
  {
   "cell_type": "code",
   "execution_count": null,
   "id": "394d4042",
   "metadata": {},
   "outputs": [],
   "source": [
    "df.attack_cat.value_counts()"
   ]
  },
  {
   "cell_type": "code",
   "execution_count": null,
   "id": "cdc122f0-4d58-42ad-a6e9-fc0df1672837",
   "metadata": {},
   "outputs": [],
   "source": [
    "df.protocol_m.value_counts()"
   ]
  },
  {
   "cell_type": "markdown",
   "id": "3f434cc2",
   "metadata": {
    "tags": []
   },
   "source": [
    "## Undersampling Normal Data Instances\n",
    "\n",
    "Since number of normal data instances are extensively higher than the attacks, normal instances are undersampled as mentioned in the paper. If you dont want to reduce the data instances ignore this step.\n",
    "\n",
    "Or if you want to reduce it according to your approach change the data instances provided in `dict`.\n",
    "\n"
   ]
  },
  {
   "cell_type": "code",
   "execution_count": null,
   "id": "6b0a9d47",
   "metadata": {},
   "outputs": [],
   "source": [
    "## For UNSW\n",
    "dict = {\n",
    "    \"normal\": 2605310,\n",
    "    \"exploits\": 1736873,\n",
    "    \"dos\": 428298,\n",
    "    \"generic\": 236299,\n",
    "    \"fuzzers\": 159593,\n",
    "    \"reconnaissance\": 32706,\n",
    "    \"worms\": 9915,\n",
    "    \"dos,generic\": 8176,\n",
    "    \"dos,reconnaissance\": 8162,\n",
    "    \"analysis,backdoor,dos,exploits,fuzzers,generic,reconnaissance\": 4675,\n",
    "    \"backdoor,dos,exploits,fuzzers,generic,reconnaissance\": 4210,\n",
    "    \"shellcode\": 4078,\n",
    "    \"analysis\": 2549,\n",
    "    \"backdoor\": 2350,\n",
    "    \"exploits,generic\": 1929,\n",
    "    \"dos,exploits\": 1152,\n",
    "    \"exploits,reconnaissance\": 724,\n",
    "    \"exploits,fuzzers\": 660,\n",
    "    \"exploits,worms\": 475,\n",
    "    \"analysis,dos,exploits,fuzzers,generic,reconnaissance\": 460,\n",
    "    \"analysis,backdoor,dos,exploits,fuzzers\": 380,\n",
    "    \"fuzzers,generic\": 281,\n",
    "    \"dos,exploits,fuzzers\": 262,\n",
    "    \"backdoor,exploits,fuzzers,reconnaissance\": 196,\n",
    "    \"generic,reconnaissance\": 164,\n",
    "    \"dos,fuzzers\": 88,\n",
    "    \"backdoor,generic\": 67,\n",
    "    \"dos,exploits,generic\": 60,\n",
    "    \"backdoor,dos,exploits,fuzzers\": 60,\n",
    "    \"analysis,generic\": 52,\n",
    "    \"dos,fuzzers,generic,reconnaissance\": 44,\n",
    "    \"dos,exploits,fuzzers,generic\": 29,\n",
    "    \"exploits,fuzzers,reconnaissance\": 22,\n",
    "    \"fuzzers,reconnaissance\": 22,\n",
    "    \"dos,fuzzers,reconnaissance\": 20,\n",
    "    \"analysis,fuzzers\": 14,\n",
    "    \"analysis,exploits\": 14,\n",
    "    \"backdoor,dos,exploits,generic\": 13,\n",
    "    \"dos,exploits,reconnaissance\": 12,\n",
    "    \"dos,worms\": 8,\n",
    "    \"backdoor,exploits,fuzzers\": 7,\n",
    "    \"analysis,dos\": 6,\n",
    "    \"analysis,reconnaissance\": 5,\n",
    "    \"backdoor,reconnaissance\": 4,\n",
    "}"
   ]
  },
  {
   "cell_type": "code",
   "execution_count": 7,
   "id": "a3dfdb55",
   "metadata": {},
   "outputs": [],
   "source": [
    "## For CICIDS\n",
    "dict = {\n",
    "    \"BENIGN\": 1074768,\n",
    "    \"DoS Hulk\": 716512,\n",
    "    \"DDoS\": 207659,\n",
    "    \"BENIGN,DDoS\": 129992,\n",
    "    \"SSH-Patator\": 89721,\n",
    "    \"BENIGN,DoS Hulk\": 53087,\n",
    "    \"FTP-Patator\": 34446,\n",
    "    \"DoS GoldenEye\": 24806,\n",
    "    \"Infiltration\": 21974,\n",
    "    \"BENIGN,FTP-Patator\": 21298,\n",
    "    \"DoS slowloris\": 19196,\n",
    "    \"Heartbleed\": 19187,\n",
    "    \"Web Attack – Brute Force\": 14291,\n",
    "    \"DoS Slowhttptest\": 4595,\n",
    "    \"Web Attack – XSS\": 3095,\n",
    "    \"Bot\": 2582,\n",
    "    \"BENIGN,DoS Slowhttptest\": 2184,\n",
    "    \"BENIGN,Heartbleed\": 1733,\n",
    "    \"BENIGN,SSH-Patator\": 1665,\n",
    "    \"BENIGN,DoS slowloris\": 642,\n",
    "    \"BENIGN,Web Attack – XSS\": 579,\n",
    "    \"PortScan\": 546,\n",
    "    \"BENIGN,Web Attack – Brute Force\": 338,\n",
    "    \"BENIGN,DoS GoldenEye\": 306,\n",
    "    \"BENIGN,PortScan\": 162,\n",
    "    \"Web Attack – Sql Injection\": 19,\n",
    "    \"BENIGN,Web Attack – Sql Injection\": 7,\n",
    "}"
   ]
  },
  {
   "cell_type": "code",
   "execution_count": null,
   "id": "5fe8f0b0",
   "metadata": {},
   "outputs": [],
   "source": [
    "rus = RandomUnderSampler(random_state=42, sampling_strategy=dict)\n",
    "X_res, y_res = rus.fit_resample(df.loc[:, df.columns != \"attack_cat\"], df.loc[:, \"attack_cat\"])\n",
    "X_res[\"attack_cat\"] = y_res\n",
    "df_reduced = X_res"
   ]
  },
  {
   "cell_type": "code",
   "execution_count": null,
   "id": "6e73e70b-6e4c-43a9-b02e-cf430d694cd9",
   "metadata": {},
   "outputs": [],
   "source": [
    "df_reduced.attack_cat.value_counts()"
   ]
  },
  {
   "cell_type": "code",
   "execution_count": 14,
   "id": "ed9625ac-c80b-4a13-bdab-7a4c4fbe9228",
   "metadata": {},
   "outputs": [],
   "source": [
    "df = pd.read_csv(out_dir + \"/UNSW_final_cleaned_pcap.csv\")"
   ]
  },
  {
   "cell_type": "code",
   "execution_count": 4,
   "id": "14f901d3-1ad0-4c79-8afc-cad093c7a30a",
   "metadata": {},
   "outputs": [],
   "source": [
    "df = pd.read_csv(\"~/CICIDS-data/CICIDS_final_cleaned_pcap.csv\")"
   ]
  },
  {
   "cell_type": "markdown",
   "id": "8b35b76d",
   "metadata": {
    "tags": []
   },
   "source": [
    "## Transformation of Hex Valued Payload into Byte-Wise Integers\n",
    "\n",
    "Transform data into 1504 features, following the employed feature vector as explained in the paper.\n",
    "Each feature is in integer form and can be utilized for training of Machine Learning models."
   ]
  },
  {
   "cell_type": "code",
   "execution_count": null,
   "id": "bd108602-ca7d-431f-a61e-90cf9e576ed1",
   "metadata": {},
   "outputs": [],
   "source": [
    "X = [np.array(bytearray.fromhex(y)) for y in df[\"payload\"].to_numpy()]"
   ]
  },
  {
   "cell_type": "code",
   "execution_count": null,
   "id": "776f3dcd-87ba-44b8-a3b2-a6ddd91f7c67",
   "metadata": {},
   "outputs": [],
   "source": [
    "for x in X:\n",
    "    x.resize(1500, refcheck=False)"
   ]
  },
  {
   "cell_type": "code",
   "execution_count": null,
   "id": "3ab511a5-1700-4e2c-96c2-ee8bc26cfaf3",
   "metadata": {},
   "outputs": [],
   "source": [
    "X = np.row_stack(X)"
   ]
  },
  {
   "cell_type": "code",
   "execution_count": null,
   "id": "7acf91c0-d4dd-4ff5-9c9c-4042a78f9f11",
   "metadata": {},
   "outputs": [],
   "source": [
    "y = np.array(df[\"label\"]).reshape((-1, 1))"
   ]
  },
  {
   "cell_type": "code",
   "execution_count": null,
   "id": "bb0cbd58-51a4-45ce-b9bf-8f5cae727685",
   "metadata": {},
   "outputs": [],
   "source": [
    "le = LabelEncoder()\n",
    "name = []\n",
    "for x in range(1, 1501):\n",
    "    name.append(\"payload_byte_\" + str(x))\n",
    "final = pd.DataFrame(X, columns=name)\n",
    "final[[\"sttl\", \"total_len\", \"t_delta\"]] = df.loc[:, [\"sttl\", \"total_len\", \"t_delta\"]]\n",
    "final[\"protocol_m\"] = le.fit_transform(df[\"protocol_m\"])\n",
    "final[\"label\"] = y\n",
    "\n",
    "# Re-order the columns to move payload to the end\n",
    "cols = final.columns.tolist()\n",
    "cols = cols[-5:] + cols[:-5]\n",
    "final = final[cols]"
   ]
  },
  {
   "cell_type": "code",
   "execution_count": null,
   "id": "26594c66-5aae-4495-bfa9-7596224f438f",
   "metadata": {},
   "outputs": [],
   "source": [
    "final"
   ]
  },
  {
   "cell_type": "code",
   "execution_count": null,
   "id": "83f91c09-60b4-44aa-9448-1bd132ce80ae",
   "metadata": {},
   "outputs": [],
   "source": [
    "final.to_csv(out_dir + f\"/{Dataset_name}_converted_data.csv\", index=False)"
   ]
  },
  {
   "cell_type": "code",
   "execution_count": null,
   "id": "c32f156e-c59d-4822-b23e-001e646404ec",
   "metadata": {},
   "outputs": [],
   "source": []
  }
 ],
 "metadata": {
  "kernelspec": {
   "display_name": "Python 3 (ipykernel)",
   "language": "python",
   "name": "python3"
  },
  "language_info": {
   "codemirror_mode": {
    "name": "ipython",
    "version": 3
   },
   "file_extension": ".py",
   "mimetype": "text/x-python",
   "name": "python",
   "nbconvert_exporter": "python",
   "pygments_lexer": "ipython3",
   "version": "3.9.13"
  }
 },
 "nbformat": 4,
 "nbformat_minor": 5
}
