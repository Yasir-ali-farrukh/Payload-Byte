{
 "cells": [
  {
   "cell_type": "markdown",
   "id": "7fb9a9a5",
   "metadata": {},
   "source": [
    "# Pre-processing of UNSW Dataset\n",
    "\n",
    "Pre-processing UNSW dataset, cleaning and handling values discrepancies. All four CSV files are combined and processed before exporting it to combined CSV file."
   ]
  },
  {
   "cell_type": "code",
   "execution_count": 1,
   "id": "c415b6b5",
   "metadata": {},
   "outputs": [],
   "source": [
    "import pandas as pd\n",
    "import numpy as np\n",
    "import Path\n",
    "import matplotlib.pyplot as plt\n",
    "\n",
    "%matplotlib inline"
   ]
  },
  {
   "cell_type": "code",
   "execution_count": 2,
   "id": "d27fcae0-d93c-4d89-8763-96de53a04c58",
   "metadata": {},
   "outputs": [],
   "source": [
    "input_dir = \"/home/jovyan/wire/DataSets/UNSW-NB15/UNSW-NB15 - CSV Files\"\n",
    "output_file = \"../../UNSW-NB15_preprocessed.csv\""
   ]
  },
  {
   "cell_type": "code",
   "execution_count": 3,
   "id": "fab817dd",
   "metadata": {},
   "outputs": [
    {
     "name": "stdout",
     "output_type": "stream",
     "text": [
      "(2540047, 49)\n"
     ]
    }
   ],
   "source": [
    "# Reading of all 4 csv files of UNSW\n",
    "dfs = []\n",
    "for i in range(1, 5):\n",
    "    path = input_dir + f\"/UNSW-NB15_{i}.csv\"  # There are 4 input csv files\n",
    "    dfs.append(pd.read_csv(path, header=None, low_memory=False))\n",
    "all_data = pd.concat(dfs).reset_index(drop=True)\n",
    "\n",
    "# Adding Column names to the CSV file\n",
    "df_col = pd.read_csv(input_dir + \"/NUSW-NB15_features.csv\", encoding=\"ISO-8859-1\")\n",
    "df_col[\"Name\"] = df_col[\"Name\"].apply(lambda x: x.strip().replace(\" \", \"\").lower())\n",
    "all_data.columns = df_col[\"Name\"]\n",
    "print(all_data.shape)"
   ]
  },
  {
   "cell_type": "code",
   "execution_count": 4,
   "id": "5e02d64c",
   "metadata": {},
   "outputs": [
    {
     "data": {
      "text/plain": [
       "Name\n",
       "srcip                     0\n",
       "sport                     0\n",
       "dstip                     0\n",
       "dsport                    0\n",
       "proto                     0\n",
       "state                     0\n",
       "dur                       0\n",
       "sbytes                    0\n",
       "dbytes                    0\n",
       "sttl                      0\n",
       "dttl                      0\n",
       "sloss                     0\n",
       "dloss                     0\n",
       "service                   0\n",
       "sload                     0\n",
       "dload                     0\n",
       "spkts                     0\n",
       "dpkts                     0\n",
       "swin                      0\n",
       "dwin                      0\n",
       "stcpb                     0\n",
       "dtcpb                     0\n",
       "smeansz                   0\n",
       "dmeansz                   0\n",
       "trans_depth               0\n",
       "res_bdy_len               0\n",
       "sjit                      0\n",
       "djit                      0\n",
       "stime                     0\n",
       "ltime                     0\n",
       "sintpkt                   0\n",
       "dintpkt                   0\n",
       "tcprtt                    0\n",
       "synack                    0\n",
       "ackdat                    0\n",
       "is_sm_ips_ports           0\n",
       "ct_state_ttl              0\n",
       "ct_flw_http_mthd    1348145\n",
       "is_ftp_login        1429879\n",
       "ct_ftp_cmd                0\n",
       "ct_srv_src                0\n",
       "ct_srv_dst                0\n",
       "ct_dst_ltm                0\n",
       "ct_src_ltm                0\n",
       "ct_src_dport_ltm          0\n",
       "ct_dst_sport_ltm          0\n",
       "ct_dst_src_ltm            0\n",
       "attack_cat          2218764\n",
       "label                     0\n",
       "dtype: int64"
      ]
     },
     "execution_count": 4,
     "metadata": {},
     "output_type": "execute_result"
    }
   ],
   "source": [
    "# Exploring Data for missing Values\n",
    "all_data.isnull().sum()\n",
    "# attack_cat has no label for normal data instances\n",
    "# ct_flw_http_mthd & is_ftp_login has missing values"
   ]
  },
  {
   "cell_type": "code",
   "execution_count": 5,
   "id": "ed02a489",
   "metadata": {},
   "outputs": [],
   "source": [
    "# Instead of removing the rows having missing value, here we have removed these two columns\n",
    "all_data.drop(columns=[\"ct_flw_http_mthd\", \"is_ftp_login\"], inplace=True)"
   ]
  },
  {
   "cell_type": "code",
   "execution_count": 6,
   "id": "c35d1348",
   "metadata": {},
   "outputs": [
    {
     "data": {
      "text/plain": [
       "0"
      ]
     },
     "execution_count": 6,
     "metadata": {},
     "output_type": "execute_result"
    }
   ],
   "source": [
    "all_data.isin([np.inf, -np.inf]).values.sum()\n",
    "# No inf data instances"
   ]
  },
  {
   "cell_type": "code",
   "execution_count": 7,
   "id": "5692edf4",
   "metadata": {},
   "outputs": [
    {
     "data": {
      "text/plain": [
       "Generic             215481\n",
       "Exploits             44525\n",
       " Fuzzers             19195\n",
       "DoS                  16353\n",
       " Reconnaissance      12228\n",
       " Fuzzers              5051\n",
       "Analysis              2677\n",
       "Backdoor              1795\n",
       "Reconnaissance        1759\n",
       " Shellcode            1288\n",
       "Backdoors              534\n",
       "Shellcode              223\n",
       "Worms                  174\n",
       "Name: attack_cat, dtype: int64"
      ]
     },
     "execution_count": 7,
     "metadata": {},
     "output_type": "execute_result"
    }
   ],
   "source": [
    "all_data[\"attack_cat\"].value_counts()  # Inconsistency in Attack labels"
   ]
  },
  {
   "cell_type": "code",
   "execution_count": 8,
   "id": "97ffd7dd",
   "metadata": {},
   "outputs": [],
   "source": [
    "# Replacing Missing value with normal in attack_cat column. Moreover, removing adddtional spaces and converting labels to lower case\n",
    "all_data[\"attack_cat\"] = all_data.attack_cat.fillna(value=\"normal\").apply(lambda x: x.strip().lower())"
   ]
  },
  {
   "cell_type": "code",
   "execution_count": 9,
   "id": "6e64dde9",
   "metadata": {},
   "outputs": [],
   "source": [
    "all_data[\"attack_cat\"] = all_data[\"attack_cat\"].replace(\"backdoors\", \"backdoor\", regex=True).apply(lambda x: x.strip().lower())"
   ]
  },
  {
   "cell_type": "code",
   "execution_count": 10,
   "id": "bbe3167d",
   "metadata": {},
   "outputs": [
    {
     "data": {
      "text/plain": [
       "False"
      ]
     },
     "execution_count": 10,
     "metadata": {},
     "output_type": "execute_result"
    }
   ],
   "source": [
    "all_data.isnull().values.any()\n",
    "# No more missing value"
   ]
  },
  {
   "cell_type": "code",
   "execution_count": 11,
   "id": "667d48b6",
   "metadata": {},
   "outputs": [
    {
     "data": {
      "text/plain": [
       "normal            2218764\n",
       "generic            215481\n",
       "exploits            44525\n",
       "fuzzers             24246\n",
       "dos                 16353\n",
       "reconnaissance      13987\n",
       "analysis             2677\n",
       "backdoor             2329\n",
       "shellcode            1511\n",
       "worms                 174\n",
       "Name: attack_cat, dtype: int64"
      ]
     },
     "execution_count": 11,
     "metadata": {},
     "output_type": "execute_result"
    }
   ],
   "source": [
    "all_data[\"attack_cat\"].value_counts()"
   ]
  },
  {
   "cell_type": "code",
   "execution_count": 12,
   "id": "f3aa7d2f",
   "metadata": {},
   "outputs": [
    {
     "data": {
      "text/plain": [
       "-           1246397\n",
       "dns          781668\n",
       "http         206273\n",
       "ftp-data     125783\n",
       "smtp          81645\n",
       "ftp           49090\n",
       "ssh           47160\n",
       "pop3           1533\n",
       "dhcp            172\n",
       "ssl             142\n",
       "snmp            113\n",
       "radius           40\n",
       "irc              31\n",
       "Name: service, dtype: int64"
      ]
     },
     "execution_count": 12,
     "metadata": {},
     "output_type": "execute_result"
    }
   ],
   "source": [
    "all_data[\"service\"].value_counts()"
   ]
  },
  {
   "cell_type": "code",
   "execution_count": 13,
   "id": "fd40b947",
   "metadata": {},
   "outputs": [],
   "source": [
    "# removing all the \"-\" and replacing those with \"None\"\n",
    "all_data[\"service\"] = all_data[\"service\"].apply(lambda x: \"None\" if x == \"-\" else x)"
   ]
  },
  {
   "cell_type": "code",
   "execution_count": 14,
   "id": "bd41d522",
   "metadata": {},
   "outputs": [
    {
     "data": {
      "text/plain": [
       "array([0, 1, 6, 2, 4, 8, 5, 3, '0', '1', '4', '2', ' '], dtype=object)"
      ]
     },
     "execution_count": 14,
     "metadata": {},
     "output_type": "execute_result"
    }
   ],
   "source": [
    "all_data.ct_ftp_cmd.unique()"
   ]
  },
  {
   "cell_type": "code",
   "execution_count": 15,
   "id": "43e155d1",
   "metadata": {},
   "outputs": [],
   "source": [
    "all_data[\"ct_ftp_cmd\"] = all_data[\"ct_ftp_cmd\"].apply(lambda x: 0 if x == \" \" else x).astype(int)\n",
    "## One or more values are in string, converting to int"
   ]
  },
  {
   "cell_type": "code",
   "execution_count": 16,
   "id": "b459bbfe",
   "metadata": {},
   "outputs": [
    {
     "data": {
      "text/plain": [
       "(2540047, 47)"
      ]
     },
     "execution_count": 16,
     "metadata": {},
     "output_type": "execute_result"
    }
   ],
   "source": [
    "all_data.shape"
   ]
  },
  {
   "cell_type": "code",
   "execution_count": 17,
   "id": "3757c9ed",
   "metadata": {},
   "outputs": [],
   "source": [
    "df = all_data[all_data.duplicated(keep=False)]\n",
    "## Checking Duplicate Values"
   ]
  },
  {
   "cell_type": "code",
   "execution_count": 18,
   "id": "b29298b1",
   "metadata": {},
   "outputs": [
    {
     "data": {
      "text/plain": [
       "(568841, 47)"
      ]
     },
     "execution_count": 18,
     "metadata": {},
     "output_type": "execute_result"
    }
   ],
   "source": [
    "df.shape"
   ]
  },
  {
   "cell_type": "code",
   "execution_count": 19,
   "id": "4eb402f7",
   "metadata": {},
   "outputs": [
    {
     "data": {
      "text/html": [
       "<div>\n",
       "<style scoped>\n",
       "    .dataframe tbody tr th:only-of-type {\n",
       "        vertical-align: middle;\n",
       "    }\n",
       "\n",
       "    .dataframe tbody tr th {\n",
       "        vertical-align: top;\n",
       "    }\n",
       "\n",
       "    .dataframe thead th {\n",
       "        text-align: right;\n",
       "    }\n",
       "</style>\n",
       "<table border=\"1\" class=\"dataframe\">\n",
       "  <thead>\n",
       "    <tr style=\"text-align: right;\">\n",
       "      <th>Name</th>\n",
       "      <th>srcip</th>\n",
       "      <th>sport</th>\n",
       "      <th>dstip</th>\n",
       "      <th>dsport</th>\n",
       "      <th>proto</th>\n",
       "      <th>state</th>\n",
       "      <th>dur</th>\n",
       "      <th>sbytes</th>\n",
       "      <th>dbytes</th>\n",
       "      <th>sttl</th>\n",
       "      <th>...</th>\n",
       "      <th>ct_ftp_cmd</th>\n",
       "      <th>ct_srv_src</th>\n",
       "      <th>ct_srv_dst</th>\n",
       "      <th>ct_dst_ltm</th>\n",
       "      <th>ct_src_ltm</th>\n",
       "      <th>ct_src_dport_ltm</th>\n",
       "      <th>ct_dst_sport_ltm</th>\n",
       "      <th>ct_dst_src_ltm</th>\n",
       "      <th>attack_cat</th>\n",
       "      <th>label</th>\n",
       "    </tr>\n",
       "  </thead>\n",
       "  <tbody>\n",
       "    <tr>\n",
       "      <th>7</th>\n",
       "      <td>10.40.182.3</td>\n",
       "      <td>0</td>\n",
       "      <td>10.40.182.3</td>\n",
       "      <td>0</td>\n",
       "      <td>arp</td>\n",
       "      <td>INT</td>\n",
       "      <td>0.000000</td>\n",
       "      <td>46</td>\n",
       "      <td>0</td>\n",
       "      <td>0</td>\n",
       "      <td>...</td>\n",
       "      <td>0</td>\n",
       "      <td>2</td>\n",
       "      <td>2</td>\n",
       "      <td>2</td>\n",
       "      <td>2</td>\n",
       "      <td>2</td>\n",
       "      <td>2</td>\n",
       "      <td>2</td>\n",
       "      <td>normal</td>\n",
       "      <td>0</td>\n",
       "    </tr>\n",
       "    <tr>\n",
       "      <th>10</th>\n",
       "      <td>10.40.170.2</td>\n",
       "      <td>0</td>\n",
       "      <td>10.40.170.2</td>\n",
       "      <td>0</td>\n",
       "      <td>arp</td>\n",
       "      <td>INT</td>\n",
       "      <td>0.000000</td>\n",
       "      <td>46</td>\n",
       "      <td>0</td>\n",
       "      <td>0</td>\n",
       "      <td>...</td>\n",
       "      <td>0</td>\n",
       "      <td>2</td>\n",
       "      <td>2</td>\n",
       "      <td>2</td>\n",
       "      <td>2</td>\n",
       "      <td>2</td>\n",
       "      <td>2</td>\n",
       "      <td>2</td>\n",
       "      <td>normal</td>\n",
       "      <td>0</td>\n",
       "    </tr>\n",
       "    <tr>\n",
       "      <th>11</th>\n",
       "      <td>10.40.170.2</td>\n",
       "      <td>0</td>\n",
       "      <td>10.40.170.2</td>\n",
       "      <td>0</td>\n",
       "      <td>arp</td>\n",
       "      <td>INT</td>\n",
       "      <td>0.000000</td>\n",
       "      <td>46</td>\n",
       "      <td>0</td>\n",
       "      <td>0</td>\n",
       "      <td>...</td>\n",
       "      <td>0</td>\n",
       "      <td>2</td>\n",
       "      <td>2</td>\n",
       "      <td>2</td>\n",
       "      <td>2</td>\n",
       "      <td>2</td>\n",
       "      <td>2</td>\n",
       "      <td>2</td>\n",
       "      <td>normal</td>\n",
       "      <td>0</td>\n",
       "    </tr>\n",
       "    <tr>\n",
       "      <th>12</th>\n",
       "      <td>10.40.182.3</td>\n",
       "      <td>0</td>\n",
       "      <td>10.40.182.3</td>\n",
       "      <td>0</td>\n",
       "      <td>arp</td>\n",
       "      <td>INT</td>\n",
       "      <td>0.000000</td>\n",
       "      <td>46</td>\n",
       "      <td>0</td>\n",
       "      <td>0</td>\n",
       "      <td>...</td>\n",
       "      <td>0</td>\n",
       "      <td>2</td>\n",
       "      <td>2</td>\n",
       "      <td>2</td>\n",
       "      <td>2</td>\n",
       "      <td>2</td>\n",
       "      <td>2</td>\n",
       "      <td>2</td>\n",
       "      <td>normal</td>\n",
       "      <td>0</td>\n",
       "    </tr>\n",
       "    <tr>\n",
       "      <th>70</th>\n",
       "      <td>59.166.0.6</td>\n",
       "      <td>15807</td>\n",
       "      <td>149.171.126.7</td>\n",
       "      <td>53</td>\n",
       "      <td>udp</td>\n",
       "      <td>CON</td>\n",
       "      <td>0.001118</td>\n",
       "      <td>132</td>\n",
       "      <td>164</td>\n",
       "      <td>31</td>\n",
       "      <td>...</td>\n",
       "      <td>0</td>\n",
       "      <td>12</td>\n",
       "      <td>8</td>\n",
       "      <td>5</td>\n",
       "      <td>3</td>\n",
       "      <td>3</td>\n",
       "      <td>2</td>\n",
       "      <td>2</td>\n",
       "      <td>normal</td>\n",
       "      <td>0</td>\n",
       "    </tr>\n",
       "    <tr>\n",
       "      <th>...</th>\n",
       "      <td>...</td>\n",
       "      <td>...</td>\n",
       "      <td>...</td>\n",
       "      <td>...</td>\n",
       "      <td>...</td>\n",
       "      <td>...</td>\n",
       "      <td>...</td>\n",
       "      <td>...</td>\n",
       "      <td>...</td>\n",
       "      <td>...</td>\n",
       "      <td>...</td>\n",
       "      <td>...</td>\n",
       "      <td>...</td>\n",
       "      <td>...</td>\n",
       "      <td>...</td>\n",
       "      <td>...</td>\n",
       "      <td>...</td>\n",
       "      <td>...</td>\n",
       "      <td>...</td>\n",
       "      <td>...</td>\n",
       "      <td>...</td>\n",
       "    </tr>\n",
       "    <tr>\n",
       "      <th>2540034</th>\n",
       "      <td>59.166.0.7</td>\n",
       "      <td>20848</td>\n",
       "      <td>149.171.126.4</td>\n",
       "      <td>21</td>\n",
       "      <td>tcp</td>\n",
       "      <td>CON</td>\n",
       "      <td>0.365058</td>\n",
       "      <td>456</td>\n",
       "      <td>346</td>\n",
       "      <td>31</td>\n",
       "      <td>...</td>\n",
       "      <td>2</td>\n",
       "      <td>2</td>\n",
       "      <td>2</td>\n",
       "      <td>2</td>\n",
       "      <td>2</td>\n",
       "      <td>2</td>\n",
       "      <td>2</td>\n",
       "      <td>2</td>\n",
       "      <td>normal</td>\n",
       "      <td>0</td>\n",
       "    </tr>\n",
       "    <tr>\n",
       "      <th>2540035</th>\n",
       "      <td>59.166.0.5</td>\n",
       "      <td>53521</td>\n",
       "      <td>149.171.126.7</td>\n",
       "      <td>21</td>\n",
       "      <td>tcp</td>\n",
       "      <td>CON</td>\n",
       "      <td>1.086072</td>\n",
       "      <td>1940</td>\n",
       "      <td>2404</td>\n",
       "      <td>31</td>\n",
       "      <td>...</td>\n",
       "      <td>2</td>\n",
       "      <td>2</td>\n",
       "      <td>2</td>\n",
       "      <td>3</td>\n",
       "      <td>3</td>\n",
       "      <td>2</td>\n",
       "      <td>2</td>\n",
       "      <td>3</td>\n",
       "      <td>normal</td>\n",
       "      <td>0</td>\n",
       "    </tr>\n",
       "    <tr>\n",
       "      <th>2540040</th>\n",
       "      <td>59.166.0.9</td>\n",
       "      <td>61886</td>\n",
       "      <td>149.171.126.1</td>\n",
       "      <td>21</td>\n",
       "      <td>tcp</td>\n",
       "      <td>CON</td>\n",
       "      <td>3.108071</td>\n",
       "      <td>1148</td>\n",
       "      <td>1402</td>\n",
       "      <td>31</td>\n",
       "      <td>...</td>\n",
       "      <td>2</td>\n",
       "      <td>2</td>\n",
       "      <td>2</td>\n",
       "      <td>2</td>\n",
       "      <td>4</td>\n",
       "      <td>2</td>\n",
       "      <td>2</td>\n",
       "      <td>3</td>\n",
       "      <td>normal</td>\n",
       "      <td>0</td>\n",
       "    </tr>\n",
       "    <tr>\n",
       "      <th>2540043</th>\n",
       "      <td>59.166.0.7</td>\n",
       "      <td>20848</td>\n",
       "      <td>149.171.126.4</td>\n",
       "      <td>21</td>\n",
       "      <td>tcp</td>\n",
       "      <td>CON</td>\n",
       "      <td>0.365058</td>\n",
       "      <td>456</td>\n",
       "      <td>346</td>\n",
       "      <td>31</td>\n",
       "      <td>...</td>\n",
       "      <td>2</td>\n",
       "      <td>2</td>\n",
       "      <td>2</td>\n",
       "      <td>2</td>\n",
       "      <td>2</td>\n",
       "      <td>2</td>\n",
       "      <td>2</td>\n",
       "      <td>2</td>\n",
       "      <td>normal</td>\n",
       "      <td>0</td>\n",
       "    </tr>\n",
       "    <tr>\n",
       "      <th>2540044</th>\n",
       "      <td>59.166.0.3</td>\n",
       "      <td>21511</td>\n",
       "      <td>149.171.126.9</td>\n",
       "      <td>21</td>\n",
       "      <td>tcp</td>\n",
       "      <td>CON</td>\n",
       "      <td>6.335154</td>\n",
       "      <td>1802</td>\n",
       "      <td>2088</td>\n",
       "      <td>31</td>\n",
       "      <td>...</td>\n",
       "      <td>2</td>\n",
       "      <td>2</td>\n",
       "      <td>2</td>\n",
       "      <td>4</td>\n",
       "      <td>2</td>\n",
       "      <td>2</td>\n",
       "      <td>2</td>\n",
       "      <td>2</td>\n",
       "      <td>normal</td>\n",
       "      <td>0</td>\n",
       "    </tr>\n",
       "  </tbody>\n",
       "</table>\n",
       "<p>568841 rows × 47 columns</p>\n",
       "</div>"
      ],
      "text/plain": [
       "Name           srcip  sport          dstip dsport proto state       dur  \\\n",
       "7        10.40.182.3      0    10.40.182.3      0   arp   INT  0.000000   \n",
       "10       10.40.170.2      0    10.40.170.2      0   arp   INT  0.000000   \n",
       "11       10.40.170.2      0    10.40.170.2      0   arp   INT  0.000000   \n",
       "12       10.40.182.3      0    10.40.182.3      0   arp   INT  0.000000   \n",
       "70        59.166.0.6  15807  149.171.126.7     53   udp   CON  0.001118   \n",
       "...              ...    ...            ...    ...   ...   ...       ...   \n",
       "2540034   59.166.0.7  20848  149.171.126.4     21   tcp   CON  0.365058   \n",
       "2540035   59.166.0.5  53521  149.171.126.7     21   tcp   CON  1.086072   \n",
       "2540040   59.166.0.9  61886  149.171.126.1     21   tcp   CON  3.108071   \n",
       "2540043   59.166.0.7  20848  149.171.126.4     21   tcp   CON  0.365058   \n",
       "2540044   59.166.0.3  21511  149.171.126.9     21   tcp   CON  6.335154   \n",
       "\n",
       "Name     sbytes  dbytes  sttl  ...  ct_ftp_cmd  ct_srv_src  ct_srv_dst  \\\n",
       "7            46       0     0  ...           0           2           2   \n",
       "10           46       0     0  ...           0           2           2   \n",
       "11           46       0     0  ...           0           2           2   \n",
       "12           46       0     0  ...           0           2           2   \n",
       "70          132     164    31  ...           0          12           8   \n",
       "...         ...     ...   ...  ...         ...         ...         ...   \n",
       "2540034     456     346    31  ...           2           2           2   \n",
       "2540035    1940    2404    31  ...           2           2           2   \n",
       "2540040    1148    1402    31  ...           2           2           2   \n",
       "2540043     456     346    31  ...           2           2           2   \n",
       "2540044    1802    2088    31  ...           2           2           2   \n",
       "\n",
       "Name    ct_dst_ltm  ct_src_ltm  ct_src_dport_ltm  ct_dst_sport_ltm  \\\n",
       "7                2           2                 2                 2   \n",
       "10               2           2                 2                 2   \n",
       "11               2           2                 2                 2   \n",
       "12               2           2                 2                 2   \n",
       "70               5           3                 3                 2   \n",
       "...            ...         ...               ...               ...   \n",
       "2540034          2           2                 2                 2   \n",
       "2540035          3           3                 2                 2   \n",
       "2540040          2           4                 2                 2   \n",
       "2540043          2           2                 2                 2   \n",
       "2540044          4           2                 2                 2   \n",
       "\n",
       "Name     ct_dst_src_ltm  attack_cat  label  \n",
       "7                     2      normal      0  \n",
       "10                    2      normal      0  \n",
       "11                    2      normal      0  \n",
       "12                    2      normal      0  \n",
       "70                    2      normal      0  \n",
       "...                 ...         ...    ...  \n",
       "2540034               2      normal      0  \n",
       "2540035               3      normal      0  \n",
       "2540040               3      normal      0  \n",
       "2540043               2      normal      0  \n",
       "2540044               2      normal      0  \n",
       "\n",
       "[568841 rows x 47 columns]"
      ]
     },
     "execution_count": 19,
     "metadata": {},
     "output_type": "execute_result"
    }
   ],
   "source": [
    "df"
   ]
  },
  {
   "cell_type": "code",
   "execution_count": 20,
   "id": "ecb38614",
   "metadata": {},
   "outputs": [
    {
     "name": "stdout",
     "output_type": "stream",
     "text": [
      "Name        srcip sport        dstip dsport proto state  dur  sbytes  dbytes  sttl  dttl  sloss  dloss service  sload  dload  spkts  dpkts  swin  \\\n",
      "7     10.40.182.3     0  10.40.182.3      0   arp   INT  0.0      46       0     0     0      0      0    None    0.0    0.0      1      0     0   \n",
      "12    10.40.182.3     0  10.40.182.3      0   arp   INT  0.0      46       0     0     0      0      0    None    0.0    0.0      1      0     0   \n",
      "\n",
      "Name  dwin  stcpb  dtcpb  smeansz  dmeansz  trans_depth  res_bdy_len  sjit  djit       stime       ltime  sintpkt  dintpkt  tcprtt  synack  ackdat  \\\n",
      "7        0      0      0       46        0            0            0   0.0   0.0  1421927415  1421927415      0.0      0.0     0.0     0.0     0.0   \n",
      "12       0      0      0       46        0            0            0   0.0   0.0  1421927415  1421927415      0.0      0.0     0.0     0.0     0.0   \n",
      "\n",
      "Name  is_sm_ips_ports  ct_state_ttl  ct_ftp_cmd  ct_srv_src  ct_srv_dst  ct_dst_ltm  ct_src_ltm  ct_src_dport_ltm  ct_dst_sport_ltm  ct_dst_src_ltm  \\\n",
      "7                   1             2           0           2           2           2           2                 2                 2               2   \n",
      "12                  1             2           0           2           2           2           2                 2                 2               2   \n",
      "\n",
      "Name attack_cat  label  \n",
      "7        normal      0  \n",
      "12       normal      0  \n"
     ]
    }
   ],
   "source": [
    "pd.set_option(\"display.max_columns\", None)\n",
    "pd.set_option(\"display.width\", 150)\n",
    "print(all_data.loc[[7, 12], :])\n",
    "pd.reset_option(\"display.max_columns\")\n",
    "pd.reset_option(\"display.width\")"
   ]
  },
  {
   "cell_type": "code",
   "execution_count": 21,
   "id": "167638d1",
   "metadata": {},
   "outputs": [
    {
     "data": {
      "text/plain": [
       "(2059415, 47)"
      ]
     },
     "execution_count": 21,
     "metadata": {},
     "output_type": "execute_result"
    }
   ],
   "source": [
    "all_data.drop_duplicates(inplace=True)\n",
    "all_data.shape"
   ]
  },
  {
   "cell_type": "code",
   "execution_count": 22,
   "id": "059e4f82",
   "metadata": {},
   "outputs": [
    {
     "data": {
      "image/png": "[encoded data removed]",
      "text/plain": [
       "<Figure size 1080x720 with 1 Axes>"
      ]
     },
     "metadata": {
      "needs_background": "light"
     },
     "output_type": "display_data"
    }
   ],
   "source": [
    "attack_counts = df[\"attack_cat\"].value_counts()\n",
    "ax = attack_counts.plot(kind=\"barh\", figsize=(15, 10), position=0.82)\n",
    "_ = ax.set_title(\"Distribution of different types of attacks in the dataset\", fontsize=24)\n",
    "_ = ax.set_xlabel(\"Number of occurences\", fontsize=18)\n",
    "_ = ax.set_ylabel(\"Attack types\", fontsize=16)\n",
    "\n",
    "for bar in ax.containers:\n",
    "    plt.setp(bar, color=\"#a3c1ad\", height=0.8)\n",
    "\n",
    "for i, v in enumerate(attack_counts):\n",
    "    plt.text(v + 1000, i - 0.1, str(v))"
   ]
  },
  {
   "cell_type": "markdown",
   "id": "671a2090",
   "metadata": {},
   "source": [
    "## Handling protocol Values\n",
    "The top 24 most common protocols are left, plus a few specialty protocols.  Everything else is converted to \"other\" so it matches the packet parsing."
   ]
  },
  {
   "cell_type": "code",
   "execution_count": 23,
   "id": "368fa683",
   "metadata": {},
   "outputs": [
    {
     "name": "stdout",
     "output_type": "stream",
     "text": [
      "tcp            54197\n",
      "udp            33114\n",
      "unas            4765\n",
      "ospf             993\n",
      "sctp             444\n",
      "any              138\n",
      "gre               95\n",
      "rsvp              92\n",
      "ipv6              85\n",
      "sep               81\n",
      "sun-nd            81\n",
      "swipe             81\n",
      "mobile            81\n",
      "pim               81\n",
      "nvp               51\n",
      "snp               51\n",
      "secure-vmtp       51\n",
      "emcon             51\n",
      "vmtp              51\n",
      "etherip           46\n",
      "encap             46\n",
      "ax.25             46\n",
      "aes-sp3-d         46\n",
      "micp              46\n",
      "pri-enc           46\n",
      "gmtp              46\n",
      "ipip              46\n",
      "nsfnet-igp        46\n",
      "mtp               46\n",
      "larp              46\n",
      "sprite-rpc        46\n",
      "eigrp             46\n",
      "tcf               46\n",
      "dgp               46\n",
      "ifmp              46\n",
      "ttp               46\n",
      "vines             46\n",
      "iso-ip            46\n",
      "wb-expak          46\n",
      "wb-mon            46\n",
      "pnni              46\n",
      "ipcomp            46\n",
      "aris              46\n",
      "smp               46\n",
      "fc                46\n",
      "iplt              46\n",
      "pipe              46\n",
      "sps               46\n",
      "sccopmce          46\n",
      "crudp             46\n",
      "isis              46\n",
      "crtp              46\n",
      "fire              46\n",
      "ptp               46\n",
      "sm                46\n",
      "uti               46\n",
      "stp               46\n",
      "qnx               46\n",
      "srp               46\n",
      "l2tp              46\n",
      "ddx               46\n",
      "iatp              46\n",
      "pgm               46\n",
      "zero              46\n",
      "vrrp              46\n",
      "ipx-n-ip          46\n",
      "compaq-peer       46\n",
      "pvp               46\n",
      "scps              46\n",
      "a/n               46\n",
      "br-sat-mon        46\n",
      "rvd               46\n",
      "wsn               46\n",
      "merit-inp         46\n",
      "netblt            46\n",
      "iso-tp4           46\n",
      "rdp               46\n",
      "irtp              46\n",
      "leaf-2            46\n",
      "leaf-1            46\n",
      "trunk-2           46\n",
      "xns-idp           46\n",
      "trunk-1           46\n",
      "prm               46\n",
      "dcn               46\n",
      "mux               46\n",
      "hmp               46\n",
      "pup               46\n",
      "chaos             46\n",
      "bbn-rcc           46\n",
      "argus             46\n",
      "xnet              46\n",
      "igp               46\n",
      "cbt               46\n",
      "egp               46\n",
      "st2               46\n",
      "ggp               46\n",
      "ip                46\n",
      "ipnip             46\n",
      "mfe-nsp           46\n",
      "3pc               46\n",
      "cphb              46\n",
      "xtp               46\n",
      "cpnx              46\n",
      "visa              46\n",
      "ipcv              46\n",
      "sat-mon           46\n",
      "ippc              46\n",
      "kryptolan         46\n",
      "sat-expak         46\n",
      "cftp              46\n",
      "ipv6-opts         46\n",
      "skip              46\n",
      "tlsp              46\n",
      "ipv6-no           46\n",
      "narp              46\n",
      "i-nlsp            46\n",
      "bna               46\n",
      "mhrp              46\n",
      "ipv6-route        46\n",
      "sdrp              46\n",
      "ipv6-frag         46\n",
      "idrp              46\n",
      "il                46\n",
      "idpr-cmtp         46\n",
      "ddp               46\n",
      "tp++              46\n",
      "idpr              46\n",
      "ib                46\n",
      "Name: proto, dtype: int64\n"
     ]
    }
   ],
   "source": [
    "pd.set_option(\"display.max_rows\", None)\n",
    "Important_protocol = all_data.proto[all_data.label == 1].value_counts()\n",
    "print(Important_protocol)\n",
    "pd.reset_option(\"display.max_rows\")"
   ]
  },
  {
   "cell_type": "code",
   "execution_count": 24,
   "id": "42071248",
   "metadata": {},
   "outputs": [
    {
     "data": {
      "text/plain": [
       "Index(['nsfnet-igp', 'mtp', 'sprite-rpc', 'eigrp', 'tcf', 'ifmp', 'ttp',\n",
       "       'vines', 'iso-ip', 'wb-expak', 'wb-mon', 'ipcomp', 'aris', 'smp',\n",
       "       'isis', 'ptp', 'sm', 'uti', 'stp', 'qnx', 'srp', 'l2tp', 'ddx', 'iatp',\n",
       "       'pgm', 'zero', 'vrrp', 'ipx-n-ip', 'compaq-peer', 'pvp', 'scps', 'a/n',\n",
       "       'br-sat-mon', 'wsn', 'merit-inp', 'netblt', 'iso-tp4', 'irtp', 'leaf-2',\n",
       "       'leaf-1', 'trunk-2', 'xns-idp', 'trunk-1', 'prm', 'dcn', 'mux', 'chaos',\n",
       "       'bbn-rcc', 'argus', 'xnet', 'igp', 'cbt', 'st2', 'ggp', 'ipnip',\n",
       "       'mfe-nsp', '3pc', 'cphb', 'xtp', 'cpnx', 'visa', 'ipcv', 'sat-mon',\n",
       "       'ippc', 'kryptolan', 'sat-expak', 'cftp', 'ipv6-opts', 'skip', 'tlsp',\n",
       "       'ipv6-no', 'narp', 'i-nlsp', 'bna', 'mhrp', 'ipv6-route', 'sdrp',\n",
       "       'ipv6-frag', 'idrp', 'il', 'idpr-cmtp', 'ddp', 'tp++', 'idpr'],\n",
       "      dtype='object')"
      ]
     },
     "execution_count": 24,
     "metadata": {},
     "output_type": "execute_result"
    }
   ],
   "source": [
    "b = Important_protocol.keys()[25:]\n",
    "## Retain these protocols\n",
    "b = b.drop(\"gmtp\")\n",
    "b = b.drop(\"ipip\")\n",
    "b = b.drop(\"larp\")\n",
    "b = b.drop(\"dgp\")\n",
    "b = b.drop(\"pnni\")\n",
    "b = b.drop(\"fc\")\n",
    "b = b.drop(\"iplt\")\n",
    "b = b.drop(\"pipe\")\n",
    "b = b.drop(\"sps\")\n",
    "b = b.drop(\"sccopmce\")\n",
    "b = b.drop(\"crudp\")\n",
    "b = b.drop(\"crtp\")\n",
    "b = b.drop(\"fire\")\n",
    "b = b.drop(\"rvd\")\n",
    "b = b.drop(\"rdp\")\n",
    "b = b.drop(\"hmp\")\n",
    "b = b.drop(\"pup\")\n",
    "b = b.drop(\"egp\")\n",
    "b = b.drop(\"ip\")\n",
    "b = b.drop(\"ib\")\n",
    "b"
   ]
  },
  {
   "cell_type": "code",
   "execution_count": 25,
   "id": "c000ed15",
   "metadata": {},
   "outputs": [],
   "source": [
    "all_data[\"proto\"].replace(b, \"others\", inplace=True)"
   ]
  },
  {
   "cell_type": "code",
   "execution_count": 26,
   "id": "4ae84b2e",
   "metadata": {},
   "outputs": [
    {
     "data": {
      "text/plain": [
       "tcp            1448859\n",
       "udp             588026\n",
       "arp               6658\n",
       "unas              4765\n",
       "ospf              3964\n",
       "others            3864\n",
       "icmp               498\n",
       "sctp               444\n",
       "any                138\n",
       "gre                 95\n",
       "rsvp                92\n",
       "ipv6                85\n",
       "sep                 81\n",
       "swipe               81\n",
       "sun-nd              81\n",
       "mobile              81\n",
       "pim                 81\n",
       "igmp                54\n",
       "emcon               51\n",
       "nvp                 51\n",
       "snp                 51\n",
       "vmtp                51\n",
       "secure-vmtp         51\n",
       "fire                46\n",
       "pri-enc             46\n",
       "gmtp                46\n",
       "pnni                46\n",
       "crudp               46\n",
       "crtp                46\n",
       "iplt                46\n",
       "fc                  46\n",
       "encap               46\n",
       "sccopmce            46\n",
       "sps                 46\n",
       "pipe                46\n",
       "etherip             46\n",
       "dgp                 46\n",
       "aes-sp3-d           46\n",
       "micp                46\n",
       "ipip                46\n",
       "ax.25               46\n",
       "larp                46\n",
       "rvd                 46\n",
       "rdp                 46\n",
       "hmp                 46\n",
       "pup                 46\n",
       "egp                 46\n",
       "ip                  46\n",
       "ib                  46\n",
       "udt                  8\n",
       "rtp                  7\n",
       "esp                  2\n",
       "Name: proto, dtype: int64"
      ]
     },
     "execution_count": 26,
     "metadata": {},
     "output_type": "execute_result"
    }
   ],
   "source": [
    "all_data.proto.value_counts()  ### We have only considered the top 30 protocols and rest are being labelled as others\n",
    "### Same is done in the parser(built for getting information from pcap files)"
   ]
  },
  {
   "cell_type": "code",
   "execution_count": 29,
   "id": "0b4e6207",
   "metadata": {},
   "outputs": [
    {
     "data": {
      "text/plain": [
       "normal            1959772\n",
       "exploits            27599\n",
       "generic             25378\n",
       "fuzzers             21795\n",
       "reconnaissance      13357\n",
       "dos                  5665\n",
       "analysis             2184\n",
       "backdoor             1983\n",
       "shellcode            1511\n",
       "worms                 171\n",
       "Name: attack_cat, dtype: int64"
      ]
     },
     "execution_count": 29,
     "metadata": {},
     "output_type": "execute_result"
    }
   ],
   "source": [
    "all_data.attack_cat.value_counts()"
   ]
  },
  {
   "cell_type": "code",
   "execution_count": 30,
   "id": "6a028c65-debe-4652-a6cc-0327badb0bf8",
   "metadata": {},
   "outputs": [
    {
     "data": {
      "text/plain": [
       "0    1959772\n",
       "1      99643\n",
       "Name: label, dtype: int64"
      ]
     },
     "execution_count": 30,
     "metadata": {},
     "output_type": "execute_result"
    }
   ],
   "source": [
    "all_data.label.value_counts()"
   ]
  },
  {
   "cell_type": "code",
   "execution_count": 31,
   "id": "a4a14ebf",
   "metadata": {},
   "outputs": [],
   "source": [
    "Path(output_file).parent.mkdir(parents=True, exist_ok=True)\n",
    "all_data.to_csv(output_file, index=False)"
   ]
  },
  {
   "cell_type": "code",
   "execution_count": null,
   "id": "8c7593af-b78b-4674-97a5-603e0abad7b5",
   "metadata": {},
   "outputs": [],
   "source": []
  }
 ],
 "metadata": {
  "kernelspec": {
   "display_name": "Python 3 (ipykernel)",
   "language": "python",
   "name": "python3"
  },
  "language_info": {
   "codemirror_mode": {
    "name": "ipython",
    "version": 3
   },
   "file_extension": ".py",
   "mimetype": "text/x-python",
   "name": "python",
   "nbconvert_exporter": "python",
   "pygments_lexer": "ipython3",
   "version": "3.9.13"
  }
 },
 "nbformat": 4,
 "nbformat_minor": 5
}
