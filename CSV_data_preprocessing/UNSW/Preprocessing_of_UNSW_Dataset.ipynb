{
 "cells": [
  {
   "cell_type": "markdown",
   "id": "7fb9a9a5",
   "metadata": {},
   "source": [
    "# Pre-processing of UNSW Dataset\n",
    "\n",
    "Pre-processing UNSW dataset, cleaning and handling values discrepancies. All four CSV files are combined and processed before exporting it to combined CSV file."
   ]
  },
  {
   "cell_type": "code",
   "execution_count": 2,
   "id": "c415b6b5",
   "metadata": {},
   "outputs": [],
   "source": [
    "import pandas as pd\n",
    "import numpy as np\n",
    "from sklearn import preprocessing\n",
    "import hashlib as hl\n",
    "import csv\n",
    "from os import close\n",
    "import numpy as np\n",
    "import logging\n",
    "import argparse\n",
    "import sys\n",
    "from datetime import datetime\n",
    "import socket\n",
    "import math\n",
    "import pickle\n",
    "import random\n",
    "from sklearn.model_selection import train_test_split\n",
    "from sklearn.manifold import TSNE\n",
    "import pickle as pkl\n",
    "from sklearn.preprocessing import StandardScaler\n",
    "import seaborn as sns\n",
    "import matplotlib.pyplot as plt\n",
    "from imblearn.under_sampling import ClusterCentroids \n",
    "%matplotlib inline"
   ]
  },
  {
   "cell_type": "code",
   "execution_count": 76,
   "id": "fab817dd",
   "metadata": {},
   "outputs": [
    {
     "name": "stderr",
     "output_type": "stream",
     "text": [
      "C:\\Users\\yasir.ali\\AppData\\Local\\Temp\\ipykernel_9724\\2116226758.py:5: DtypeWarning: Columns (1,3,47) have mixed types. Specify dtype option on import or set low_memory=False.\n",
      "  dfs.append(pd.read_csv(path.format(i), header = None))\n",
      "C:\\Users\\yasir.ali\\AppData\\Local\\Temp\\ipykernel_9724\\2116226758.py:5: DtypeWarning: Columns (3,39,47) have mixed types. Specify dtype option on import or set low_memory=False.\n",
      "  dfs.append(pd.read_csv(path.format(i), header = None))\n"
     ]
    },
    {
     "name": "stdout",
     "output_type": "stream",
     "text": [
      "(2540047, 49)\n"
     ]
    }
   ],
   "source": [
    "# Reading of all 4 csv files of UNSW\n",
    "dfs = []\n",
    "for i in range(1,5):\n",
    "    path = 'E:/UNSW-NB15 Dataset/UNSW-NB15-CSV-Files/UNSW-NB15_{}.csv'  # There are 4 input csv files\n",
    "    dfs.append(pd.read_csv(path.format(i), header = None))\n",
    "all_data = pd.concat(dfs).reset_index(drop=True)\n",
    "\n",
    "# Adding Column names to the CSV file\n",
    "df_col = pd.read_csv('E:/UNSW-NB15 Dataset/UNSW-NB15-CSV-Files/NUSW-NB15_features.csv', encoding='ISO-8859-1')\n",
    "df_col['Name'] = df_col['Name'].apply(lambda x: x.strip().replace(' ', '').lower())\n",
    "all_data.columns = df_col['Name']\n",
    "print(all_data.shape)"
   ]
  },
  {
   "cell_type": "code",
   "execution_count": 3,
   "id": "5e02d64c",
   "metadata": {},
   "outputs": [
    {
     "data": {
      "text/plain": [
       "Name\n",
       "srcip                     0\n",
       "sport                     0\n",
       "dstip                     0\n",
       "dsport                    0\n",
       "proto                     0\n",
       "state                     0\n",
       "dur                       0\n",
       "sbytes                    0\n",
       "dbytes                    0\n",
       "sttl                      0\n",
       "dttl                      0\n",
       "sloss                     0\n",
       "dloss                     0\n",
       "service                   0\n",
       "sload                     0\n",
       "dload                     0\n",
       "spkts                     0\n",
       "dpkts                     0\n",
       "swin                      0\n",
       "dwin                      0\n",
       "stcpb                     0\n",
       "dtcpb                     0\n",
       "smeansz                   0\n",
       "dmeansz                   0\n",
       "trans_depth               0\n",
       "res_bdy_len               0\n",
       "sjit                      0\n",
       "djit                      0\n",
       "stime                     0\n",
       "ltime                     0\n",
       "sintpkt                   0\n",
       "dintpkt                   0\n",
       "tcprtt                    0\n",
       "synack                    0\n",
       "ackdat                    0\n",
       "is_sm_ips_ports           0\n",
       "ct_state_ttl              0\n",
       "ct_flw_http_mthd    1348145\n",
       "is_ftp_login        1429879\n",
       "ct_ftp_cmd                0\n",
       "ct_srv_src                0\n",
       "ct_srv_dst                0\n",
       "ct_dst_ltm                0\n",
       "ct_src_ltm                0\n",
       "ct_src_dport_ltm          0\n",
       "ct_dst_sport_ltm          0\n",
       "ct_dst_src_ltm            0\n",
       "attack_cat          2218764\n",
       "label                     0\n",
       "dtype: int64"
      ]
     },
     "execution_count": 3,
     "metadata": {},
     "output_type": "execute_result"
    }
   ],
   "source": [
    "# Exploring Data for missing Values\n",
    "all_data.isnull().sum() # attack_cat has no label for normal data instances\n",
    "                        # ct_flw_http_mthd & is_ftp_login has missing values"
   ]
  },
  {
   "cell_type": "code",
   "execution_count": 7,
   "id": "97ffd7dd",
   "metadata": {},
   "outputs": [],
   "source": [
    "# Replacing Missing value with normal in attack_cat column. Moreover, removing adddtional spaces and converting labels to lower case\n",
    "all_data['attack_cat'] = all_data.attack_cat.fillna(value='normal').apply(lambda x: x.strip().lower())"
   ]
  },
  {
   "cell_type": "code",
   "execution_count": 9,
   "id": "ed02a489",
   "metadata": {},
   "outputs": [],
   "source": [
    "# Instead of removing the rows having missing value, here we have removed these two columns\n",
    "all_data.drop(columns=['ct_flw_http_mthd', 'is_ftp_login'],inplace=True)"
   ]
  },
  {
   "cell_type": "code",
   "execution_count": 10,
   "id": "bbe3167d",
   "metadata": {},
   "outputs": [
    {
     "data": {
      "text/plain": [
       "False"
      ]
     },
     "execution_count": 10,
     "metadata": {},
     "output_type": "execute_result"
    }
   ],
   "source": [
    "all_data.isnull().values.any()\n",
    "# No more missing value"
   ]
  },
  {
   "cell_type": "code",
   "execution_count": 11,
   "id": "c35d1348",
   "metadata": {},
   "outputs": [
    {
     "data": {
      "text/plain": [
       "0"
      ]
     },
     "execution_count": 11,
     "metadata": {},
     "output_type": "execute_result"
    }
   ],
   "source": [
    "all_data.isin([np.inf, -np.inf]).values.sum()\n",
    "# No inf data instances"
   ]
  },
  {
   "cell_type": "code",
   "execution_count": 5,
   "id": "5692edf4",
   "metadata": {},
   "outputs": [
    {
     "data": {
      "text/plain": [
       "Generic             215481\n",
       "Exploits             44525\n",
       " Fuzzers             19195\n",
       "DoS                  16353\n",
       " Reconnaissance      12228\n",
       " Fuzzers              5051\n",
       "Analysis              2677\n",
       "Backdoor              1795\n",
       "Reconnaissance        1759\n",
       " Shellcode            1288\n",
       "Backdoors              534\n",
       "Shellcode              223\n",
       "Worms                  174\n",
       "Name: attack_cat, dtype: int64"
      ]
     },
     "execution_count": 5,
     "metadata": {},
     "output_type": "execute_result"
    }
   ],
   "source": [
    "all_data['attack_cat'].value_counts() # Inconsistency in Attack labels"
   ]
  },
  {
   "cell_type": "code",
   "execution_count": 12,
   "id": "6e64dde9",
   "metadata": {},
   "outputs": [],
   "source": [
    "all_data['attack_cat'] = all_data['attack_cat'].replace('backdoors','backdoor', regex=True).apply(lambda x: x.strip().lower())"
   ]
  },
  {
   "cell_type": "code",
   "execution_count": 13,
   "id": "667d48b6",
   "metadata": {},
   "outputs": [
    {
     "data": {
      "text/plain": [
       "normal            2218764\n",
       "generic            215481\n",
       "exploits            44525\n",
       "fuzzers             24246\n",
       "dos                 16353\n",
       "reconnaissance      13987\n",
       "analysis             2677\n",
       "backdoor             2329\n",
       "shellcode            1511\n",
       "worms                 174\n",
       "Name: attack_cat, dtype: int64"
      ]
     },
     "execution_count": 13,
     "metadata": {},
     "output_type": "execute_result"
    }
   ],
   "source": [
    "all_data['attack_cat'].value_counts()"
   ]
  },
  {
   "cell_type": "code",
   "execution_count": 14,
   "id": "f3aa7d2f",
   "metadata": {},
   "outputs": [
    {
     "data": {
      "text/plain": [
       "-           1246397\n",
       "dns          781668\n",
       "http         206273\n",
       "ftp-data     125783\n",
       "smtp          81645\n",
       "ftp           49090\n",
       "ssh           47160\n",
       "pop3           1533\n",
       "dhcp            172\n",
       "ssl             142\n",
       "snmp            113\n",
       "radius           40\n",
       "irc              31\n",
       "Name: service, dtype: int64"
      ]
     },
     "execution_count": 14,
     "metadata": {},
     "output_type": "execute_result"
    }
   ],
   "source": [
    "all_data['service'].value_counts()"
   ]
  },
  {
   "cell_type": "code",
   "execution_count": 15,
   "id": "fd40b947",
   "metadata": {},
   "outputs": [],
   "source": [
    "# removing all the \"-\" and replacing those with \"None\"\n",
    "all_data['service'] = all_data['service'].apply(lambda x:\"None\" if x==\"-\" else x)"
   ]
  },
  {
   "cell_type": "code",
   "execution_count": 22,
   "id": "bd41d522",
   "metadata": {},
   "outputs": [
    {
     "data": {
      "text/plain": [
       "array([0, 1, 6, 2, 4, 8, 5, 3])"
      ]
     },
     "execution_count": 22,
     "metadata": {},
     "output_type": "execute_result"
    }
   ],
   "source": [
    "all_data.ct_ftp_cmd.unique()"
   ]
  },
  {
   "cell_type": "code",
   "execution_count": 21,
   "id": "43e155d1",
   "metadata": {},
   "outputs": [],
   "source": [
    "all_data['ct_ftp_cmd'] = all_data['ct_ftp_cmd'].apply(lambda x:0 if x==\" \" else x).astype(int)\n",
    "## One or more values are in string, converting to int"
   ]
  },
  {
   "cell_type": "code",
   "execution_count": 25,
   "id": "b459bbfe",
   "metadata": {},
   "outputs": [
    {
     "data": {
      "text/plain": [
       "(2540047, 47)"
      ]
     },
     "execution_count": 25,
     "metadata": {},
     "output_type": "execute_result"
    }
   ],
   "source": [
    "all_data.shape"
   ]
  },
  {
   "cell_type": "code",
   "execution_count": 26,
   "id": "3757c9ed",
   "metadata": {},
   "outputs": [],
   "source": [
    "df = all_data[all_data.duplicated(keep=False)]\n",
    "## Checking Duplicate Values"
   ]
  },
  {
   "cell_type": "code",
   "execution_count": 33,
   "id": "b29298b1",
   "metadata": {},
   "outputs": [
    {
     "data": {
      "text/plain": [
       "(568838, 47)"
      ]
     },
     "execution_count": 33,
     "metadata": {},
     "output_type": "execute_result"
    }
   ],
   "source": [
    "df.shape"
   ]
  },
  {
   "cell_type": "code",
   "execution_count": 30,
   "id": "4eb402f7",
   "metadata": {},
   "outputs": [
    {
     "data": {
      "text/html": [
       "<div>\n",
       "<style scoped>\n",
       "    .dataframe tbody tr th:only-of-type {\n",
       "        vertical-align: middle;\n",
       "    }\n",
       "\n",
       "    .dataframe tbody tr th {\n",
       "        vertical-align: top;\n",
       "    }\n",
       "\n",
       "    .dataframe thead th {\n",
       "        text-align: right;\n",
       "    }\n",
       "</style>\n",
       "<table border=\"1\" class=\"dataframe\">\n",
       "  <thead>\n",
       "    <tr style=\"text-align: right;\">\n",
       "      <th>Name</th>\n",
       "      <th>srcip</th>\n",
       "      <th>sport</th>\n",
       "      <th>dstip</th>\n",
       "      <th>dsport</th>\n",
       "      <th>proto</th>\n",
       "      <th>state</th>\n",
       "      <th>dur</th>\n",
       "      <th>sbytes</th>\n",
       "      <th>dbytes</th>\n",
       "      <th>sttl</th>\n",
       "      <th>...</th>\n",
       "      <th>ct_ftp_cmd</th>\n",
       "      <th>ct_srv_src</th>\n",
       "      <th>ct_srv_dst</th>\n",
       "      <th>ct_dst_ltm</th>\n",
       "      <th>ct_src_ltm</th>\n",
       "      <th>ct_src_dport_ltm</th>\n",
       "      <th>ct_dst_sport_ltm</th>\n",
       "      <th>ct_dst_src_ltm</th>\n",
       "      <th>attack_cat</th>\n",
       "      <th>label</th>\n",
       "    </tr>\n",
       "  </thead>\n",
       "  <tbody>\n",
       "    <tr>\n",
       "      <th>7</th>\n",
       "      <td>10.40.182.3</td>\n",
       "      <td>0</td>\n",
       "      <td>10.40.182.3</td>\n",
       "      <td>0</td>\n",
       "      <td>arp</td>\n",
       "      <td>INT</td>\n",
       "      <td>0.000000</td>\n",
       "      <td>46</td>\n",
       "      <td>0</td>\n",
       "      <td>0</td>\n",
       "      <td>...</td>\n",
       "      <td>0</td>\n",
       "      <td>2</td>\n",
       "      <td>2</td>\n",
       "      <td>2</td>\n",
       "      <td>2</td>\n",
       "      <td>2</td>\n",
       "      <td>2</td>\n",
       "      <td>2</td>\n",
       "      <td>normal</td>\n",
       "      <td>0</td>\n",
       "    </tr>\n",
       "    <tr>\n",
       "      <th>10</th>\n",
       "      <td>10.40.170.2</td>\n",
       "      <td>0</td>\n",
       "      <td>10.40.170.2</td>\n",
       "      <td>0</td>\n",
       "      <td>arp</td>\n",
       "      <td>INT</td>\n",
       "      <td>0.000000</td>\n",
       "      <td>46</td>\n",
       "      <td>0</td>\n",
       "      <td>0</td>\n",
       "      <td>...</td>\n",
       "      <td>0</td>\n",
       "      <td>2</td>\n",
       "      <td>2</td>\n",
       "      <td>2</td>\n",
       "      <td>2</td>\n",
       "      <td>2</td>\n",
       "      <td>2</td>\n",
       "      <td>2</td>\n",
       "      <td>normal</td>\n",
       "      <td>0</td>\n",
       "    </tr>\n",
       "    <tr>\n",
       "      <th>11</th>\n",
       "      <td>10.40.170.2</td>\n",
       "      <td>0</td>\n",
       "      <td>10.40.170.2</td>\n",
       "      <td>0</td>\n",
       "      <td>arp</td>\n",
       "      <td>INT</td>\n",
       "      <td>0.000000</td>\n",
       "      <td>46</td>\n",
       "      <td>0</td>\n",
       "      <td>0</td>\n",
       "      <td>...</td>\n",
       "      <td>0</td>\n",
       "      <td>2</td>\n",
       "      <td>2</td>\n",
       "      <td>2</td>\n",
       "      <td>2</td>\n",
       "      <td>2</td>\n",
       "      <td>2</td>\n",
       "      <td>2</td>\n",
       "      <td>normal</td>\n",
       "      <td>0</td>\n",
       "    </tr>\n",
       "    <tr>\n",
       "      <th>12</th>\n",
       "      <td>10.40.182.3</td>\n",
       "      <td>0</td>\n",
       "      <td>10.40.182.3</td>\n",
       "      <td>0</td>\n",
       "      <td>arp</td>\n",
       "      <td>INT</td>\n",
       "      <td>0.000000</td>\n",
       "      <td>46</td>\n",
       "      <td>0</td>\n",
       "      <td>0</td>\n",
       "      <td>...</td>\n",
       "      <td>0</td>\n",
       "      <td>2</td>\n",
       "      <td>2</td>\n",
       "      <td>2</td>\n",
       "      <td>2</td>\n",
       "      <td>2</td>\n",
       "      <td>2</td>\n",
       "      <td>2</td>\n",
       "      <td>normal</td>\n",
       "      <td>0</td>\n",
       "    </tr>\n",
       "    <tr>\n",
       "      <th>70</th>\n",
       "      <td>59.166.0.6</td>\n",
       "      <td>15807</td>\n",
       "      <td>149.171.126.7</td>\n",
       "      <td>53</td>\n",
       "      <td>udp</td>\n",
       "      <td>CON</td>\n",
       "      <td>0.001118</td>\n",
       "      <td>132</td>\n",
       "      <td>164</td>\n",
       "      <td>31</td>\n",
       "      <td>...</td>\n",
       "      <td>0</td>\n",
       "      <td>12</td>\n",
       "      <td>8</td>\n",
       "      <td>5</td>\n",
       "      <td>3</td>\n",
       "      <td>3</td>\n",
       "      <td>2</td>\n",
       "      <td>2</td>\n",
       "      <td>normal</td>\n",
       "      <td>0</td>\n",
       "    </tr>\n",
       "    <tr>\n",
       "      <th>...</th>\n",
       "      <td>...</td>\n",
       "      <td>...</td>\n",
       "      <td>...</td>\n",
       "      <td>...</td>\n",
       "      <td>...</td>\n",
       "      <td>...</td>\n",
       "      <td>...</td>\n",
       "      <td>...</td>\n",
       "      <td>...</td>\n",
       "      <td>...</td>\n",
       "      <td>...</td>\n",
       "      <td>...</td>\n",
       "      <td>...</td>\n",
       "      <td>...</td>\n",
       "      <td>...</td>\n",
       "      <td>...</td>\n",
       "      <td>...</td>\n",
       "      <td>...</td>\n",
       "      <td>...</td>\n",
       "      <td>...</td>\n",
       "      <td>...</td>\n",
       "    </tr>\n",
       "    <tr>\n",
       "      <th>2540034</th>\n",
       "      <td>59.166.0.7</td>\n",
       "      <td>20848</td>\n",
       "      <td>149.171.126.4</td>\n",
       "      <td>21</td>\n",
       "      <td>tcp</td>\n",
       "      <td>CON</td>\n",
       "      <td>0.365058</td>\n",
       "      <td>456</td>\n",
       "      <td>346</td>\n",
       "      <td>31</td>\n",
       "      <td>...</td>\n",
       "      <td>2</td>\n",
       "      <td>2</td>\n",
       "      <td>2</td>\n",
       "      <td>2</td>\n",
       "      <td>2</td>\n",
       "      <td>2</td>\n",
       "      <td>2</td>\n",
       "      <td>2</td>\n",
       "      <td>normal</td>\n",
       "      <td>0</td>\n",
       "    </tr>\n",
       "    <tr>\n",
       "      <th>2540035</th>\n",
       "      <td>59.166.0.5</td>\n",
       "      <td>53521</td>\n",
       "      <td>149.171.126.7</td>\n",
       "      <td>21</td>\n",
       "      <td>tcp</td>\n",
       "      <td>CON</td>\n",
       "      <td>1.086072</td>\n",
       "      <td>1940</td>\n",
       "      <td>2404</td>\n",
       "      <td>31</td>\n",
       "      <td>...</td>\n",
       "      <td>2</td>\n",
       "      <td>2</td>\n",
       "      <td>2</td>\n",
       "      <td>3</td>\n",
       "      <td>3</td>\n",
       "      <td>2</td>\n",
       "      <td>2</td>\n",
       "      <td>3</td>\n",
       "      <td>normal</td>\n",
       "      <td>0</td>\n",
       "    </tr>\n",
       "    <tr>\n",
       "      <th>2540040</th>\n",
       "      <td>59.166.0.9</td>\n",
       "      <td>61886</td>\n",
       "      <td>149.171.126.1</td>\n",
       "      <td>21</td>\n",
       "      <td>tcp</td>\n",
       "      <td>CON</td>\n",
       "      <td>3.108071</td>\n",
       "      <td>1148</td>\n",
       "      <td>1402</td>\n",
       "      <td>31</td>\n",
       "      <td>...</td>\n",
       "      <td>2</td>\n",
       "      <td>2</td>\n",
       "      <td>2</td>\n",
       "      <td>2</td>\n",
       "      <td>4</td>\n",
       "      <td>2</td>\n",
       "      <td>2</td>\n",
       "      <td>3</td>\n",
       "      <td>normal</td>\n",
       "      <td>0</td>\n",
       "    </tr>\n",
       "    <tr>\n",
       "      <th>2540043</th>\n",
       "      <td>59.166.0.7</td>\n",
       "      <td>20848</td>\n",
       "      <td>149.171.126.4</td>\n",
       "      <td>21</td>\n",
       "      <td>tcp</td>\n",
       "      <td>CON</td>\n",
       "      <td>0.365058</td>\n",
       "      <td>456</td>\n",
       "      <td>346</td>\n",
       "      <td>31</td>\n",
       "      <td>...</td>\n",
       "      <td>2</td>\n",
       "      <td>2</td>\n",
       "      <td>2</td>\n",
       "      <td>2</td>\n",
       "      <td>2</td>\n",
       "      <td>2</td>\n",
       "      <td>2</td>\n",
       "      <td>2</td>\n",
       "      <td>normal</td>\n",
       "      <td>0</td>\n",
       "    </tr>\n",
       "    <tr>\n",
       "      <th>2540044</th>\n",
       "      <td>59.166.0.3</td>\n",
       "      <td>21511</td>\n",
       "      <td>149.171.126.9</td>\n",
       "      <td>21</td>\n",
       "      <td>tcp</td>\n",
       "      <td>CON</td>\n",
       "      <td>6.335154</td>\n",
       "      <td>1802</td>\n",
       "      <td>2088</td>\n",
       "      <td>31</td>\n",
       "      <td>...</td>\n",
       "      <td>2</td>\n",
       "      <td>2</td>\n",
       "      <td>2</td>\n",
       "      <td>4</td>\n",
       "      <td>2</td>\n",
       "      <td>2</td>\n",
       "      <td>2</td>\n",
       "      <td>2</td>\n",
       "      <td>normal</td>\n",
       "      <td>0</td>\n",
       "    </tr>\n",
       "  </tbody>\n",
       "</table>\n",
       "<p>568838 rows × 47 columns</p>\n",
       "</div>"
      ],
      "text/plain": [
       "Name           srcip  sport          dstip dsport proto state       dur  \\\n",
       "7        10.40.182.3      0    10.40.182.3      0   arp   INT  0.000000   \n",
       "10       10.40.170.2      0    10.40.170.2      0   arp   INT  0.000000   \n",
       "11       10.40.170.2      0    10.40.170.2      0   arp   INT  0.000000   \n",
       "12       10.40.182.3      0    10.40.182.3      0   arp   INT  0.000000   \n",
       "70        59.166.0.6  15807  149.171.126.7     53   udp   CON  0.001118   \n",
       "...              ...    ...            ...    ...   ...   ...       ...   \n",
       "2540034   59.166.0.7  20848  149.171.126.4     21   tcp   CON  0.365058   \n",
       "2540035   59.166.0.5  53521  149.171.126.7     21   tcp   CON  1.086072   \n",
       "2540040   59.166.0.9  61886  149.171.126.1     21   tcp   CON  3.108071   \n",
       "2540043   59.166.0.7  20848  149.171.126.4     21   tcp   CON  0.365058   \n",
       "2540044   59.166.0.3  21511  149.171.126.9     21   tcp   CON  6.335154   \n",
       "\n",
       "Name     sbytes  dbytes  sttl  ...  ct_ftp_cmd  ct_srv_src  ct_srv_dst  \\\n",
       "7            46       0     0  ...           0           2           2   \n",
       "10           46       0     0  ...           0           2           2   \n",
       "11           46       0     0  ...           0           2           2   \n",
       "12           46       0     0  ...           0           2           2   \n",
       "70          132     164    31  ...           0          12           8   \n",
       "...         ...     ...   ...  ...         ...         ...         ...   \n",
       "2540034     456     346    31  ...           2           2           2   \n",
       "2540035    1940    2404    31  ...           2           2           2   \n",
       "2540040    1148    1402    31  ...           2           2           2   \n",
       "2540043     456     346    31  ...           2           2           2   \n",
       "2540044    1802    2088    31  ...           2           2           2   \n",
       "\n",
       "Name    ct_dst_ltm  ct_src_ltm  ct_src_dport_ltm  ct_dst_sport_ltm  \\\n",
       "7                2           2                 2                 2   \n",
       "10               2           2                 2                 2   \n",
       "11               2           2                 2                 2   \n",
       "12               2           2                 2                 2   \n",
       "70               5           3                 3                 2   \n",
       "...            ...         ...               ...               ...   \n",
       "2540034          2           2                 2                 2   \n",
       "2540035          3           3                 2                 2   \n",
       "2540040          2           4                 2                 2   \n",
       "2540043          2           2                 2                 2   \n",
       "2540044          4           2                 2                 2   \n",
       "\n",
       "Name     ct_dst_src_ltm  attack_cat  label  \n",
       "7                     2      normal      0  \n",
       "10                    2      normal      0  \n",
       "11                    2      normal      0  \n",
       "12                    2      normal      0  \n",
       "70                    2      normal      0  \n",
       "...                 ...         ...    ...  \n",
       "2540034               2      normal      0  \n",
       "2540035               3      normal      0  \n",
       "2540040               3      normal      0  \n",
       "2540043               2      normal      0  \n",
       "2540044               2      normal      0  \n",
       "\n",
       "[568838 rows x 47 columns]"
      ]
     },
     "execution_count": 30,
     "metadata": {},
     "output_type": "execute_result"
    }
   ],
   "source": [
    "df"
   ]
  },
  {
   "cell_type": "code",
   "execution_count": 31,
   "id": "ecb38614",
   "metadata": {},
   "outputs": [
    {
     "data": {
      "text/plain": [
       "Name\n",
       "srcip               10.40.182.3\n",
       "sport                         0\n",
       "dstip               10.40.182.3\n",
       "dsport                        0\n",
       "proto                       arp\n",
       "state                       INT\n",
       "dur                         0.0\n",
       "sbytes                       46\n",
       "dbytes                        0\n",
       "sttl                          0\n",
       "dttl                          0\n",
       "sloss                         0\n",
       "dloss                         0\n",
       "service                    None\n",
       "sload                       0.0\n",
       "dload                       0.0\n",
       "spkts                         1\n",
       "dpkts                         0\n",
       "swin                          0\n",
       "dwin                          0\n",
       "stcpb                         0\n",
       "dtcpb                         0\n",
       "smeansz                      46\n",
       "dmeansz                       0\n",
       "trans_depth                   0\n",
       "res_bdy_len                   0\n",
       "sjit                        0.0\n",
       "djit                        0.0\n",
       "stime                1421927415\n",
       "ltime                1421927415\n",
       "sintpkt                     0.0\n",
       "dintpkt                     0.0\n",
       "tcprtt                      0.0\n",
       "synack                      0.0\n",
       "ackdat                      0.0\n",
       "is_sm_ips_ports               1\n",
       "ct_state_ttl                  2\n",
       "ct_ftp_cmd                    0\n",
       "ct_srv_src                    2\n",
       "ct_srv_dst                    2\n",
       "ct_dst_ltm                    2\n",
       "ct_src_ltm                    2\n",
       "ct_src_dport_ltm              2\n",
       "ct_dst_sport_ltm              2\n",
       "ct_dst_src_ltm                2\n",
       "attack_cat               normal\n",
       "label                         0\n",
       "Name: 7, dtype: object"
      ]
     },
     "execution_count": 31,
     "metadata": {},
     "output_type": "execute_result"
    }
   ],
   "source": [
    "all_data.loc[7,:]"
   ]
  },
  {
   "cell_type": "code",
   "execution_count": 32,
   "id": "6f19af8e",
   "metadata": {},
   "outputs": [
    {
     "data": {
      "text/plain": [
       "Name\n",
       "srcip               10.40.182.3\n",
       "sport                         0\n",
       "dstip               10.40.182.3\n",
       "dsport                        0\n",
       "proto                       arp\n",
       "state                       INT\n",
       "dur                         0.0\n",
       "sbytes                       46\n",
       "dbytes                        0\n",
       "sttl                          0\n",
       "dttl                          0\n",
       "sloss                         0\n",
       "dloss                         0\n",
       "service                    None\n",
       "sload                       0.0\n",
       "dload                       0.0\n",
       "spkts                         1\n",
       "dpkts                         0\n",
       "swin                          0\n",
       "dwin                          0\n",
       "stcpb                         0\n",
       "dtcpb                         0\n",
       "smeansz                      46\n",
       "dmeansz                       0\n",
       "trans_depth                   0\n",
       "res_bdy_len                   0\n",
       "sjit                        0.0\n",
       "djit                        0.0\n",
       "stime                1421927415\n",
       "ltime                1421927415\n",
       "sintpkt                     0.0\n",
       "dintpkt                     0.0\n",
       "tcprtt                      0.0\n",
       "synack                      0.0\n",
       "ackdat                      0.0\n",
       "is_sm_ips_ports               1\n",
       "ct_state_ttl                  2\n",
       "ct_ftp_cmd                    0\n",
       "ct_srv_src                    2\n",
       "ct_srv_dst                    2\n",
       "ct_dst_ltm                    2\n",
       "ct_src_ltm                    2\n",
       "ct_src_dport_ltm              2\n",
       "ct_dst_sport_ltm              2\n",
       "ct_dst_src_ltm                2\n",
       "attack_cat               normal\n",
       "label                         0\n",
       "Name: 12, dtype: object"
      ]
     },
     "execution_count": 32,
     "metadata": {},
     "output_type": "execute_result"
    }
   ],
   "source": [
    "all_data.loc[12,:]"
   ]
  },
  {
   "cell_type": "code",
   "execution_count": 36,
   "id": "167638d1",
   "metadata": {},
   "outputs": [
    {
     "data": {
      "text/plain": [
       "(2059417, 47)"
      ]
     },
     "execution_count": 36,
     "metadata": {},
     "output_type": "execute_result"
    }
   ],
   "source": [
    "all_data.drop_duplicates(inplace=True)\n",
    "all_data.shape"
   ]
  },
  {
   "cell_type": "code",
   "execution_count": 37,
   "id": "a4a14ebf",
   "metadata": {},
   "outputs": [],
   "source": [
    "all_data.to_csv('E:/UNSW-NB15 Dataset/UNSW-NB15-CSV-Files/Preprocessed-CSV/UNSW-NB15_processed.csv', index=False)"
   ]
  },
  {
   "cell_type": "code",
   "execution_count": null,
   "id": "8ff7654d",
   "metadata": {},
   "outputs": [],
   "source": [
    "saved_dict = {}\n",
    "saved_dict['columns'] = df_col['Name'][df_col['Name']!='label'].tolist()\n",
    "saved_dict['binary_col'] = ['is_sm_ips_ports', 'is_ftp_login']"
   ]
  },
  {
   "cell_type": "code",
   "execution_count": 167,
   "id": "368fa683",
   "metadata": {},
   "outputs": [
    {
     "data": {
      "text/plain": [
       "tcp     1448858\n",
       "udp      588027\n",
       "arp        6658\n",
       "unas       4765\n",
       "ospf       3964\n",
       "         ...   \n",
       "tp++         46\n",
       "ib           46\n",
       "udt           8\n",
       "rtp           7\n",
       "esp           2\n",
       "Name: proto, Length: 135, dtype: int64"
      ]
     },
     "execution_count": 167,
     "metadata": {},
     "output_type": "execute_result"
    }
   ],
   "source": [
    "all_data.proto.value_counts()"
   ]
  },
  {
   "cell_type": "code",
   "execution_count": 5,
   "id": "c07976bc",
   "metadata": {},
   "outputs": [
    {
     "data": {
      "text/plain": [
       "array(['dns', 'None', 'http', 'smtp', 'ftp-data', 'ftp', 'ssh', 'pop3',\n",
       "       'snmp', 'ssl', 'irc', 'radius', 'dhcp'], dtype=object)"
      ]
     },
     "execution_count": 5,
     "metadata": {},
     "output_type": "execute_result"
    }
   ],
   "source": [
    "df.service.unique()"
   ]
  },
  {
   "cell_type": "code",
   "execution_count": 52,
   "id": "185282b6",
   "metadata": {},
   "outputs": [
    {
     "data": {
      "text/plain": [
       "array(['normal', 'exploits', 'reconnaissance', 'dos', 'generic',\n",
       "       'shellcode', 'fuzzers', 'worms', 'backdoor', 'analysis'],\n",
       "      dtype=object)"
      ]
     },
     "execution_count": 52,
     "metadata": {},
     "output_type": "execute_result"
    }
   ],
   "source": [
    "df.attack_cat.unique()"
   ]
  },
  {
   "cell_type": "code",
   "execution_count": 74,
   "id": "059e4f82",
   "metadata": {},
   "outputs": [
    {
     "data": {
      "image/png": "[encoded data removed]",
      "text/plain": [
       "<Figure size 1080x720 with 1 Axes>"
      ]
     },
     "metadata": {
      "needs_background": "light"
     },
     "output_type": "display_data"
    }
   ],
   "source": [
    "plt.figure(figsize=(15,10))\n",
    "\n",
    "attack = ( 'exploits', 'reconnaissance', 'dos', 'generic',\n",
    "       'shellcode', 'fuzzers', 'worms', 'backdoor', 'analysis')\n",
    "y_pos = np.arange(len(attack)) \n",
    "amount = df['attack_cat'].value_counts()[1:]\n",
    "plt.barh(y_pos, amount, align='center', color='#a3c1ad' )\n",
    "plt.yticks(y_pos, attack,fontsize=16)\n",
    "plt.title('Distribution of different types of attacks in the dataset')\n",
    "plt.xlabel('Number of occurences',fontsize=18)\n",
    "plt.ylabel('Attack types',fontsize=16)\n",
    "for i, v in enumerate(amount):\n",
    "    plt.text(v + 3, i-0.1 , str(v))\n",
    "    \n",
    "plt.show()"
   ]
  },
  {
   "cell_type": "markdown",
   "id": "671a2090",
   "metadata": {},
   "source": [
    "## Handling protocol Values"
   ]
  },
  {
   "cell_type": "code",
   "execution_count": 18,
   "id": "69680bf1",
   "metadata": {},
   "outputs": [],
   "source": [
    "df_p=pd.read_csv(\"E:/UNSW-NB15 Dataset/UNSW-NB15-CSV-Files/Preprocessed-CSV/UNSW-NB15_processed.csv\")\n",
    "df_p=df_p[['stime','ltime','srcip','dstip','dsport','sport','sttl','proto','dur','attack_cat','label']]"
   ]
  },
  {
   "cell_type": "code",
   "execution_count": 10,
   "id": "c0ad48c6",
   "metadata": {},
   "outputs": [],
   "source": [
    "Important_protocol=df_p.proto[df_p.label==1].value_counts()"
   ]
  },
  {
   "cell_type": "code",
   "execution_count": 12,
   "id": "baf05fc7",
   "metadata": {},
   "outputs": [
    {
     "data": {
      "text/plain": [
       "tcp          9830\n",
       "udp          4543\n",
       "unas          535\n",
       "ospf          114\n",
       "sctp           46\n",
       "             ... \n",
       "idrp            5\n",
       "il              5\n",
       "idpr-cmtp       5\n",
       "ddp             5\n",
       "ib              5\n",
       "Name: proto, Length: 128, dtype: int64"
      ]
     },
     "execution_count": 12,
     "metadata": {},
     "output_type": "execute_result"
    }
   ],
   "source": [
    "Important_protocol"
   ]
  },
  {
   "cell_type": "code",
   "execution_count": 14,
   "id": "42071248",
   "metadata": {},
   "outputs": [],
   "source": [
    "b=Important_protocol.keys()[30:]\n",
    "b=b.drop('fire')\n",
    "b=b.drop('sccopmce')\n",
    "b=b.drop('crtp')\n",
    "b=b.drop('crudp')\n",
    "b=b.drop('iplt')\n",
    "b=b.drop('sps')\n",
    "b=b.drop('pipe')\n",
    "b=b.drop('fc')\n",
    "b=b.drop('ib')\n",
    "b=b.drop('ggp')\n",
    "b=b.drop('egp')\n",
    "b=b.drop('hmp')\n",
    "b=b.drop('rdp')\n",
    "\n",
    "## Some Additional Protocol to retain"
   ]
  },
  {
   "cell_type": "code",
   "execution_count": 15,
   "id": "c000ed15",
   "metadata": {},
   "outputs": [],
   "source": [
    "df_p['proto'].replace(b,'others',inplace=True)"
   ]
  },
  {
   "cell_type": "code",
   "execution_count": 19,
   "id": "4ae84b2e",
   "metadata": {},
   "outputs": [
    {
     "data": {
      "text/plain": [
       "tcp            752033\n",
       "udp            289943\n",
       "arp              3419\n",
       "ospf             1735\n",
       "unas              535\n",
       "others            490\n",
       "icmp              154\n",
       "sctp               46\n",
       "any                15\n",
       "gre                14\n",
       "vmtp               10\n",
       "ip                 10\n",
       "igmp               10\n",
       "emcon              10\n",
       "nvp                10\n",
       "snp                10\n",
       "secure-vmtp        10\n",
       "rsvp               10\n",
       "sep                 9\n",
       "pim                 9\n",
       "mobile              9\n",
       "sun-nd              9\n",
       "swipe               9\n",
       "ipv6                8\n",
       "leaf-2              7\n",
       "dgp                 5\n",
       "ipip                5\n",
       "micp                5\n",
       "aes-sp3-d           5\n",
       "encap               5\n",
       "etherip             5\n",
       "pri-enc             5\n",
       "gmtp                5\n",
       "pnni                5\n",
       "udt                 4\n",
       "esp                 2\n",
       "Name: proto, dtype: int64"
      ]
     },
     "execution_count": 19,
     "metadata": {},
     "output_type": "execute_result"
    }
   ],
   "source": [
    "df_p.proto.value_counts() ### We have only considered the top 30 protocols and rest are being labelled as others\n",
    "                          ### Same is done in the parser(built for getting information from pcap files)"
   ]
  },
  {
   "cell_type": "code",
   "execution_count": 21,
   "id": "bbbd7806",
   "metadata": {},
   "outputs": [
    {
     "data": {
      "image/png": "[encoded data removed]",
      "text/plain": [
       "<Figure size 1080x720 with 1 Axes>"
      ]
     },
     "metadata": {
      "needs_background": "light"
     },
     "output_type": "display_data"
    }
   ],
   "source": [
    "plt.figure(figsize=(15,10))\n",
    "\n",
    "attack=df_p.proto.value_counts().keys()[6:-6]\n",
    "y_pos = np.arange(len(attack)) \n",
    "amount = df_p['proto'].value_counts()[6:-6]\n",
    "plt.barh(y_pos, amount, align='center', color='#a3c1ad' )\n",
    "plt.yticks(y_pos, attack,fontsize=16)\n",
    "plt.title('Distribution of different types of protocols in the dataset')\n",
    "plt.xlabel('Number of occurences',fontsize=18)\n",
    "plt.ylabel('Protocols-Excluding Top 5',fontsize=16)\n",
    "for i, v in enumerate(amount):\n",
    "    plt.text(v + 3, i-0.1 , str(v))\n",
    "    \n",
    "plt.show()"
   ]
  },
  {
   "cell_type": "code",
   "execution_count": 17,
   "id": "abc0e3b2",
   "metadata": {},
   "outputs": [],
   "source": [
    "df_p.to_csv('E:/UNSW-NB15 Dataset/UNSW-NB15-CSV-Files/Preprocessed-CSV/UNSW-NB15_processed_v4.csv',index=False)"
   ]
  },
  {
   "cell_type": "code",
   "execution_count": 3,
   "id": "890ca516",
   "metadata": {},
   "outputs": [
    {
     "name": "stderr",
     "output_type": "stream",
     "text": [
      "C:\\Users\\yasir.ali\\.conda\\envs\\New\\lib\\site-packages\\IPython\\core\\interactiveshell.py:3457: DtypeWarning: Columns (37) have mixed types.Specify dtype option on import or set low_memory=False.\n",
      "  exec(code_obj, self.user_global_ns, self.user_ns)\n"
     ]
    }
   ],
   "source": [
    "df_p=pd.read_csv(\"E:/UNSW-NB15 Dataset/UNSW-NB15-CSV-Files/Preprocessed-CSV/UNSW-NB15_processed_v4.csv\")"
   ]
  },
  {
   "cell_type": "code",
   "execution_count": 6,
   "id": "0b4e6207",
   "metadata": {},
   "outputs": [
    {
     "data": {
      "text/plain": [
       "normal            1959773\n",
       "exploits            27599\n",
       "generic             25378\n",
       "fuzzers             21795\n",
       "reconnaissance      13357\n",
       "dos                  5665\n",
       "analysis             2185\n",
       "backdoor             1984\n",
       "shellcode            1511\n",
       "worms                 171\n",
       "Name: attack_cat, dtype: int64"
      ]
     },
     "execution_count": 6,
     "metadata": {},
     "output_type": "execute_result"
    }
   ],
   "source": [
    "df_p.attack_cat.value_counts()"
   ]
  }
 ],
 "metadata": {
  "kernelspec": {
   "display_name": "Python 3 (ipykernel)",
   "language": "python",
   "name": "python3"
  },
  "language_info": {
   "codemirror_mode": {
    "name": "ipython",
    "version": 3
   },
   "file_extension": ".py",
   "mimetype": "text/x-python",
   "name": "python",
   "nbconvert_exporter": "python",
   "pygments_lexer": "ipython3",
   "version": "3.7.13"
  }
 },
 "nbformat": 4,
 "nbformat_minor": 5
}
