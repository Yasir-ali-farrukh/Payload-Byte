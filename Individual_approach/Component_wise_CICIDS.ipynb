{
 "cells": [
  {
   "cell_type": "markdown",
   "id": "47a0d8cb",
   "metadata": {},
   "source": [
    "## Optimized_Parser_approach CICIDS\n",
    "\n",
    "\n",
    "This approach comprises of extracting pcap file features utilizing own developed pcap parser. Then utilizing it for comparison and labelling. Prominent steps for this approach are:\n",
    "1. Extract Pcap file features into csv using developed parser. \n",
    "2. Perform labelling by comparing pre-processed UNSW CSV file and pcap parsed file (in .csv format).This approach compares both file using 5 distinct features which are :\n",
    "\n",
    "> a)  Source IP Address(*srcip*) \n",
    ">\n",
    "> b)  Destination IP Address(*dstip*)\n",
    ">\n",
    "> c)  Destination Port Number(*dsport*)\n",
    ">\n",
    "> d)  Source Port Numbe(*sport*)\n",
    ">\n",
    "> e)  Transaction Protocol(*protocol_m*)\n",
    "\n",
    "3. Moreover, time duration is utilized to cross validate the attacks. The time duration is available at the official site of the dataset.\n",
    "            \n",
    "\n"
   ]
  },
  {
   "cell_type": "code",
   "execution_count": 2,
   "id": "b8074280",
   "metadata": {},
   "outputs": [],
   "source": [
    "import sys\n",
    "sys.path.append(\"C:\\\\Users\\\\yasir.ali\\\\Project\\\\Payload-Byte\")"
   ]
  },
  {
   "cell_type": "code",
   "execution_count": 3,
   "id": "7ff3f6f5",
   "metadata": {},
   "outputs": [],
   "source": [
    "import hashlib as hl\n",
    "import csv\n",
    "from datetime import datetime\n",
    "from os import close\n",
    "import numpy as np\n",
    "import logging\n",
    "import argparse\n",
    "import sys\n",
    "from datetime import datetime\n",
    "import socket\n",
    "import math\n",
    "import pickle\n",
    "import random\n",
    "import pandas as pd\n",
    "from functions.Functions_wireshark import *\n",
    "from functions.Optimized_Parser_Labelling import *\n",
    "log = logging.getLogger()\n",
    "log.setLevel(logging.DEBUG)"
   ]
  },
  {
   "cell_type": "code",
   "execution_count": 84,
   "id": "4eb4807b",
   "metadata": {},
   "outputs": [
    {
     "data": {
      "text/plain": [
       "100    2298227\n",
       "200     529450\n",
       "Name: Check, dtype: int64"
      ]
     },
     "execution_count": 84,
     "metadata": {},
     "output_type": "execute_result"
    }
   ],
   "source": [
    "## Checking ambiguity in the given time\n",
    "df_p['Check']=df_p['Timestamp'].apply(lambda x: 100 if x.count(':') == 1 else 200)\n",
    "df_p.Check.value_counts()"
   ]
  },
  {
   "cell_type": "markdown",
   "id": "743c9e2e",
   "metadata": {},
   "source": [
    "## Reading pre-processed CSV File of CICIDS\n"
   ]
  },
  {
   "cell_type": "code",
   "execution_count": 4,
   "id": "81ceabd6",
   "metadata": {},
   "outputs": [],
   "source": [
    "df_p=pd.read_csv('F:/Project_Data/NIDS/CSV-Files-CICIDS-2017/Preprocessed-Data/CICIDS.csv')\n",
    "df_p=df_p[['Timestamp','Source IP','Destination IP','Destination Port','Source Port','Protocol','Label']]\n",
    "df_p.rename(columns={'Timestamp': 'stime', 'Source IP': 'srcip', 'Destination IP': 'dstip', 'Destination Port': 'dsport', 'Source Port': 'sport', 'Label': 'label','Protocol': 'protocol_m'}, inplace=True)\n",
    "\n",
    "# Converting time into epoch format along with the mitigation of AM/PM issue.\n",
    "df_p['stime']=df_p['stime'].apply(lambda x: (datetime.strptime(x, '%d/%m/%Y %H:%M')) if x.count(':') == 1 else  (datetime.strptime(x, '%d/%m/%Y %H:%M:%S')))\n",
    "df_p['stime']=df_p['stime'].apply(lambda x: int((datetime(x.year,x.month,x.day,(x.hour+12),x.minute,x.second)).timestamp()) if (x.hour>=1)&(x.hour<=7) else int((datetime(x.year,x.month,x.day,x.hour,x.minute,x.second)).timestamp()) )\n",
    "df_p=df_p.sort_values(by='stime')"
   ]
  },
  {
   "cell_type": "code",
   "execution_count": 6,
   "id": "e14bd36d",
   "metadata": {},
   "outputs": [],
   "source": [
    "df_p['protocol_m'] = df_p['protocol_m'].astype(str)\n",
    "df_p['protocol_m']=df_p['protocol_m'].apply(lambda x: x.replace('6.0', 'tcp'))\n",
    "df_p['protocol_m']=df_p['protocol_m'].apply(lambda x: x.replace('17.0', 'udp'))\n",
    "df_p['protocol_m']=df_p['protocol_m'].apply(lambda x: x.replace('0.0', 'other'))"
   ]
  },
  {
   "cell_type": "code",
   "execution_count": 7,
   "id": "1720c15f",
   "metadata": {},
   "outputs": [
    {
     "data": {
      "text/plain": [
       "BENIGN                        2271122\n",
       "DoS Hulk                       230123\n",
       "PortScan                       158804\n",
       "DDoS                           128025\n",
       "DoS GoldenEye                   10293\n",
       "FTP-Patator                      7935\n",
       "SSH-Patator                      5897\n",
       "DoS slowloris                    5796\n",
       "DoS Slowhttptest                 5499\n",
       "Bot                              1956\n",
       "Web Attack – Brute Force         1507\n",
       "Web Attack – XSS                  652\n",
       "Infiltration                       36\n",
       "Web Attack – Sql Injection         21\n",
       "Heartbleed                         11\n",
       "Name: label, dtype: int64"
      ]
     },
     "execution_count": 7,
     "metadata": {},
     "output_type": "execute_result"
    }
   ],
   "source": [
    "df_p.label.value_counts()"
   ]
  },
  {
   "cell_type": "markdown",
   "id": "650ed84a",
   "metadata": {},
   "source": [
    "## Parsing PCAP files into CSV"
   ]
  },
  {
   "cell_type": "code",
   "execution_count": 1,
   "id": "8446ff4e",
   "metadata": {},
   "outputs": [],
   "source": [
    "pcap='F:/Project_Data/NIDS/Pcap-Files-CICIDS-2017/'\n",
    "pcap_file=[]\n",
    "days=['Monday','Tuesday','Wednesday','Thursday','Friday']\n",
    "for x in days:\n",
    "    pcap_file.append(pcap+x+\"-WorkingHours\"+\".pcap\")\n",
    "    \n",
    "    \n",
    "out_file='F:/Project_Data/NIDS/CICIDS_result/pcap_file_csv_parser/'"
   ]
  },
  {
   "cell_type": "code",
   "execution_count": null,
   "id": "4110e106",
   "metadata": {},
   "outputs": [],
   "source": [
    "pcap_parser(pcap_file,out_file,1)"
   ]
  },
  {
   "cell_type": "markdown",
   "id": "43f65b4a",
   "metadata": {},
   "source": [
    "## Labeling & Combining of Parsed PCAP files"
   ]
  },
  {
   "cell_type": "code",
   "execution_count": 8,
   "id": "90ad13f5",
   "metadata": {},
   "outputs": [],
   "source": [
    "df=pd.read_csv(\"F:/Project_Data/NIDS/CICIDS_result/pcap_file_csv_parser/pcap_csv_1.csv\",index_col=0)\n",
    "df=df.sort_values(by='stime')"
   ]
  },
  {
   "cell_type": "code",
   "execution_count": 9,
   "id": "28b4914d",
   "metadata": {},
   "outputs": [
    {
     "name": "stdout",
     "output_type": "stream",
     "text": [
      "Start Value: 1499082959\n",
      "End Value: 1499112094\n"
     ]
    }
   ],
   "source": [
    "# df=df.sort_values(by='stime')\n",
    "stime=df.stime[0]\n",
    "ltime=int(df.stime.tail(1))\n",
    "print(\"Start Value:\",df.stime[0])\n",
    "print(\"End Value:\", int(df.stime.tail(1)))"
   ]
  },
  {
   "cell_type": "code",
   "execution_count": 358,
   "id": "f7bc3d90",
   "metadata": {},
   "outputs": [],
   "source": [
    "df.drop(columns=['frame_num','stime','ltime','protocol_s'],inplace=True)"
   ]
  },
  {
   "cell_type": "code",
   "execution_count": 10,
   "id": "26c1701e",
   "metadata": {},
   "outputs": [],
   "source": [
    "aa=df_p[(df_p['stime']>=stime) & (df_p['stime']<=ltime)]"
   ]
  },
  {
   "cell_type": "code",
   "execution_count": 12,
   "id": "4e98edcc",
   "metadata": {},
   "outputs": [
    {
     "data": {
      "text/plain": [
       "(2827677, 7)"
      ]
     },
     "execution_count": 12,
     "metadata": {},
     "output_type": "execute_result"
    }
   ],
   "source": [
    "df_p.shape"
   ]
  },
  {
   "cell_type": "code",
   "execution_count": 12,
   "id": "c7b1f5e7",
   "metadata": {},
   "outputs": [
    {
     "data": {
      "text/plain": [
       "tcp     10710230\n",
       "udp       759022\n",
       "icmp         444\n",
       "igmp          40\n",
       "Name: protocol_m, dtype: int64"
      ]
     },
     "execution_count": 12,
     "metadata": {},
     "output_type": "execute_result"
    }
   ],
   "source": [
    "df.protocol_m.value_counts()"
   ]
  },
  {
   "cell_type": "code",
   "execution_count": 362,
   "id": "1fa424dc",
   "metadata": {},
   "outputs": [
    {
     "data": {
      "text/plain": [
       "tcp      285044\n",
       "udp      142291\n",
       "other       231\n",
       "Name: protocol_m, dtype: int64"
      ]
     },
     "execution_count": 362,
     "metadata": {},
     "output_type": "execute_result"
    }
   ],
   "source": [
    "aa.protocol_m.value_counts()"
   ]
  },
  {
   "cell_type": "markdown",
   "id": "768c2494",
   "metadata": {},
   "source": [
    "### `Labelling & Analyzing`\n"
   ]
  },
  {
   "cell_type": "code",
   "execution_count": 395,
   "id": "5c808cf5",
   "metadata": {},
   "outputs": [
    {
     "data": {
      "text/html": [
       "<div>\n",
       "<style scoped>\n",
       "    .dataframe tbody tr th:only-of-type {\n",
       "        vertical-align: middle;\n",
       "    }\n",
       "\n",
       "    .dataframe tbody tr th {\n",
       "        vertical-align: top;\n",
       "    }\n",
       "\n",
       "    .dataframe thead th {\n",
       "        text-align: right;\n",
       "    }\n",
       "</style>\n",
       "<table border=\"1\" class=\"dataframe\">\n",
       "  <thead>\n",
       "    <tr style=\"text-align: right;\">\n",
       "      <th></th>\n",
       "      <th>srcip</th>\n",
       "      <th>sport</th>\n",
       "      <th>dstip</th>\n",
       "      <th>dsport</th>\n",
       "      <th>protocol_m</th>\n",
       "      <th>sttl</th>\n",
       "      <th>total_len</th>\n",
       "      <th>payload</th>\n",
       "      <th>t_delta</th>\n",
       "      <th>stime</th>\n",
       "      <th>label</th>\n",
       "    </tr>\n",
       "  </thead>\n",
       "  <tbody>\n",
       "    <tr>\n",
       "      <th>0</th>\n",
       "      <td>192.168.10.50</td>\n",
       "      <td>56108</td>\n",
       "      <td>192.168.10.3</td>\n",
       "      <td>3268</td>\n",
       "      <td>tcp</td>\n",
       "      <td>64</td>\n",
       "      <td>455</td>\n",
       "      <td>0000018f6082018b06092a864886f71201020202011100...</td>\n",
       "      <td>0.000000</td>\n",
       "      <td>1499435940</td>\n",
       "      <td>BENIGN</td>\n",
       "    </tr>\n",
       "    <tr>\n",
       "      <th>1</th>\n",
       "      <td>192.168.10.50</td>\n",
       "      <td>56108</td>\n",
       "      <td>192.168.10.3</td>\n",
       "      <td>3268</td>\n",
       "      <td>tcp</td>\n",
       "      <td>64</td>\n",
       "      <td>455</td>\n",
       "      <td>0000018f6082018b06092a864886f71201020202011100...</td>\n",
       "      <td>0.000000</td>\n",
       "      <td>1499436060</td>\n",
       "      <td>BENIGN</td>\n",
       "    </tr>\n",
       "    <tr>\n",
       "      <th>2</th>\n",
       "      <td>192.168.10.50</td>\n",
       "      <td>56108</td>\n",
       "      <td>192.168.10.3</td>\n",
       "      <td>3268</td>\n",
       "      <td>tcp</td>\n",
       "      <td>64</td>\n",
       "      <td>455</td>\n",
       "      <td>0000018f6082018b06092a864886f71201020202011100...</td>\n",
       "      <td>0.000000</td>\n",
       "      <td>1499436240</td>\n",
       "      <td>BENIGN</td>\n",
       "    </tr>\n",
       "    <tr>\n",
       "      <th>3</th>\n",
       "      <td>192.168.10.50</td>\n",
       "      <td>56108</td>\n",
       "      <td>192.168.10.3</td>\n",
       "      <td>3268</td>\n",
       "      <td>tcp</td>\n",
       "      <td>64</td>\n",
       "      <td>455</td>\n",
       "      <td>0000018f6082018b06092a864886f71201020202011100...</td>\n",
       "      <td>0.000000</td>\n",
       "      <td>1499436360</td>\n",
       "      <td>BENIGN</td>\n",
       "    </tr>\n",
       "    <tr>\n",
       "      <th>4</th>\n",
       "      <td>192.168.10.50</td>\n",
       "      <td>56108</td>\n",
       "      <td>192.168.10.3</td>\n",
       "      <td>3268</td>\n",
       "      <td>tcp</td>\n",
       "      <td>64</td>\n",
       "      <td>455</td>\n",
       "      <td>0000018f6082018b06092a864886f71201020202011100...</td>\n",
       "      <td>0.000000</td>\n",
       "      <td>1499436480</td>\n",
       "      <td>BENIGN</td>\n",
       "    </tr>\n",
       "    <tr>\n",
       "      <th>...</th>\n",
       "      <td>...</td>\n",
       "      <td>...</td>\n",
       "      <td>...</td>\n",
       "      <td>...</td>\n",
       "      <td>...</td>\n",
       "      <td>...</td>\n",
       "      <td>...</td>\n",
       "      <td>...</td>\n",
       "      <td>...</td>\n",
       "      <td>...</td>\n",
       "      <td>...</td>\n",
       "    </tr>\n",
       "    <tr>\n",
       "      <th>19740070</th>\n",
       "      <td>192.168.10.15</td>\n",
       "      <td>59585</td>\n",
       "      <td>205.174.165.73</td>\n",
       "      <td>8080</td>\n",
       "      <td>tcp</td>\n",
       "      <td>128</td>\n",
       "      <td>52</td>\n",
       "      <td>NaN</td>\n",
       "      <td>0.130817</td>\n",
       "      <td>1499462160</td>\n",
       "      <td>BENIGN</td>\n",
       "    </tr>\n",
       "    <tr>\n",
       "      <th>19740071</th>\n",
       "      <td>192.168.10.15</td>\n",
       "      <td>59585</td>\n",
       "      <td>205.174.165.73</td>\n",
       "      <td>8080</td>\n",
       "      <td>tcp</td>\n",
       "      <td>128</td>\n",
       "      <td>48</td>\n",
       "      <td>NaN</td>\n",
       "      <td>0.001495</td>\n",
       "      <td>1499462160</td>\n",
       "      <td>BENIGN</td>\n",
       "    </tr>\n",
       "    <tr>\n",
       "      <th>19740072</th>\n",
       "      <td>192.168.10.8</td>\n",
       "      <td>9807</td>\n",
       "      <td>205.174.165.73</td>\n",
       "      <td>8080</td>\n",
       "      <td>tcp</td>\n",
       "      <td>128</td>\n",
       "      <td>52</td>\n",
       "      <td>NaN</td>\n",
       "      <td>0.014476</td>\n",
       "      <td>1499462160</td>\n",
       "      <td>BENIGN</td>\n",
       "    </tr>\n",
       "    <tr>\n",
       "      <th>19740073</th>\n",
       "      <td>192.168.10.8</td>\n",
       "      <td>9807</td>\n",
       "      <td>205.174.165.73</td>\n",
       "      <td>8080</td>\n",
       "      <td>tcp</td>\n",
       "      <td>128</td>\n",
       "      <td>52</td>\n",
       "      <td>NaN</td>\n",
       "      <td>0.037433</td>\n",
       "      <td>1499462160</td>\n",
       "      <td>BENIGN</td>\n",
       "    </tr>\n",
       "    <tr>\n",
       "      <th>19740074</th>\n",
       "      <td>192.168.10.8</td>\n",
       "      <td>9807</td>\n",
       "      <td>205.174.165.73</td>\n",
       "      <td>8080</td>\n",
       "      <td>tcp</td>\n",
       "      <td>128</td>\n",
       "      <td>48</td>\n",
       "      <td>NaN</td>\n",
       "      <td>0.598845</td>\n",
       "      <td>1499462160</td>\n",
       "      <td>BENIGN</td>\n",
       "    </tr>\n",
       "  </tbody>\n",
       "</table>\n",
       "<p>19740075 rows × 11 columns</p>\n",
       "</div>"
      ],
      "text/plain": [
       "                  srcip  sport           dstip  dsport protocol_m  sttl  \\\n",
       "0         192.168.10.50  56108    192.168.10.3    3268        tcp    64   \n",
       "1         192.168.10.50  56108    192.168.10.3    3268        tcp    64   \n",
       "2         192.168.10.50  56108    192.168.10.3    3268        tcp    64   \n",
       "3         192.168.10.50  56108    192.168.10.3    3268        tcp    64   \n",
       "4         192.168.10.50  56108    192.168.10.3    3268        tcp    64   \n",
       "...                 ...    ...             ...     ...        ...   ...   \n",
       "19740070  192.168.10.15  59585  205.174.165.73    8080        tcp   128   \n",
       "19740071  192.168.10.15  59585  205.174.165.73    8080        tcp   128   \n",
       "19740072   192.168.10.8   9807  205.174.165.73    8080        tcp   128   \n",
       "19740073   192.168.10.8   9807  205.174.165.73    8080        tcp   128   \n",
       "19740074   192.168.10.8   9807  205.174.165.73    8080        tcp   128   \n",
       "\n",
       "          total_len                                            payload  \\\n",
       "0               455  0000018f6082018b06092a864886f71201020202011100...   \n",
       "1               455  0000018f6082018b06092a864886f71201020202011100...   \n",
       "2               455  0000018f6082018b06092a864886f71201020202011100...   \n",
       "3               455  0000018f6082018b06092a864886f71201020202011100...   \n",
       "4               455  0000018f6082018b06092a864886f71201020202011100...   \n",
       "...             ...                                                ...   \n",
       "19740070         52                                                NaN   \n",
       "19740071         48                                                NaN   \n",
       "19740072         52                                                NaN   \n",
       "19740073         52                                                NaN   \n",
       "19740074         48                                                NaN   \n",
       "\n",
       "           t_delta       stime   label  \n",
       "0         0.000000  1499435940  BENIGN  \n",
       "1         0.000000  1499436060  BENIGN  \n",
       "2         0.000000  1499436240  BENIGN  \n",
       "3         0.000000  1499436360  BENIGN  \n",
       "4         0.000000  1499436480  BENIGN  \n",
       "...            ...         ...     ...  \n",
       "19740070  0.130817  1499462160  BENIGN  \n",
       "19740071  0.001495  1499462160  BENIGN  \n",
       "19740072  0.014476  1499462160  BENIGN  \n",
       "19740073  0.037433  1499462160  BENIGN  \n",
       "19740074  0.598845  1499462160  BENIGN  \n",
       "\n",
       "[19740075 rows x 11 columns]"
      ]
     },
     "execution_count": 395,
     "metadata": {},
     "output_type": "execute_result"
    }
   ],
   "source": [
    "combine=df.merge(aa, left_on=['srcip','dstip','dsport','sport','protocol_m'], right_on=['srcip','dstip','dsport','sport','protocol_m'])\n",
    "combine"
   ]
  },
  {
   "cell_type": "code",
   "execution_count": 396,
   "id": "49c8a7b3",
   "metadata": {},
   "outputs": [],
   "source": [
    "combine.drop_duplicates(inplace=True)"
   ]
  },
  {
   "cell_type": "code",
   "execution_count": 397,
   "id": "e8001027",
   "metadata": {},
   "outputs": [
    {
     "data": {
      "text/plain": [
       "(8830316, 11)"
      ]
     },
     "execution_count": 397,
     "metadata": {},
     "output_type": "execute_result"
    }
   ],
   "source": [
    "combine.shape"
   ]
  },
  {
   "cell_type": "code",
   "execution_count": null,
   "id": "78e17530",
   "metadata": {},
   "outputs": [],
   "source": [
    "combine.to_csv(\"F:/Project_Data/NIDS/CICIDS_result/Labelled_pcap_file/labelled_pcap_csv_5.csv\",index=False)"
   ]
  },
  {
   "cell_type": "markdown",
   "id": "14e10320",
   "metadata": {},
   "source": [
    "## Cross Validation of Time Frame of Attacks"
   ]
  },
  {
   "cell_type": "markdown",
   "id": "d5a44af4",
   "metadata": {},
   "source": [
    "## Friday"
   ]
  },
  {
   "cell_type": "code",
   "execution_count": 400,
   "id": "4e37604c",
   "metadata": {},
   "outputs": [],
   "source": [
    "##  DDoS LOIT (15:56 – 16:16)\n",
    "combine.drop(combine[(combine.stime>=1499453700 )&(combine.stime<=1499459400 )&(combine.label=='BENIGN')].index,inplace=True)"
   ]
  },
  {
   "cell_type": "code",
   "execution_count": 401,
   "id": "ec594ffa",
   "metadata": {},
   "outputs": [],
   "source": [
    "## Port Scan\n",
    "combine.drop(combine[(combine.stime>=1499453700 )&(combine.stime<=1499459400 )&(combine.label=='BENIGN')].index,inplace=True)"
   ]
  },
  {
   "cell_type": "code",
   "execution_count": 399,
   "id": "43fde770",
   "metadata": {},
   "outputs": [],
   "source": [
    "## Botnet ARES (10:02 a.m. – 11:02 a.m.)\n",
    "combine.drop(combine[(combine.stime>=1499439720 )&(combine.stime<=1499443320 )&(combine.label=='BENIGN')].index,inplace=True)"
   ]
  },
  {
   "cell_type": "code",
   "execution_count": 402,
   "id": "924970e0",
   "metadata": {},
   "outputs": [
    {
     "data": {
      "text/plain": [
       "(5848193, 11)"
      ]
     },
     "execution_count": 402,
     "metadata": {},
     "output_type": "execute_result"
    }
   ],
   "source": [
    "combine.shape"
   ]
  },
  {
   "cell_type": "markdown",
   "id": "a0648745",
   "metadata": {},
   "source": [
    "## Thursday"
   ]
  },
  {
   "cell_type": "code",
   "execution_count": 349,
   "id": "db33d140",
   "metadata": {},
   "outputs": [],
   "source": [
    "## Infiltration – Dropbox download (15:04 – 15:45 p.m.)\n",
    "combine.drop(combine[(combine.stime>=1499371200)&(combine.stime<=1499373900)&(combine.label=='BENIGN')].index,inplace=True)"
   ]
  },
  {
   "cell_type": "code",
   "execution_count": 350,
   "id": "a80d04af",
   "metadata": {},
   "outputs": [],
   "source": [
    "## Infiltration – Dropbox download and (14:33 -14:35)\n",
    "combine.drop(combine[(combine.stime>=1499369400)&(combine.stime<=1499369700)&(combine.label=='BENIGN')].index,inplace=True)"
   ]
  },
  {
   "cell_type": "code",
   "execution_count": 351,
   "id": "ed179b4a",
   "metadata": {},
   "outputs": [],
   "source": [
    "## Web Attack – Sql Injection (10:40 – 10:42 a.m.)\n",
    "combine.drop(combine[(combine.stime>=1499355600)&(combine.stime<=1499355720)&(combine.label=='BENIGN')].index,inplace=True)"
   ]
  },
  {
   "cell_type": "code",
   "execution_count": 352,
   "id": "9347e9a5",
   "metadata": {},
   "outputs": [],
   "source": [
    "## Web Attack – XSS (10:15 – 10:35 a.m.)\n",
    "combine.drop(combine[(combine.stime>=1499354100)&(combine.stime<=1499355300)&(combine.label=='BENIGN')].index,inplace=True)"
   ]
  },
  {
   "cell_type": "code",
   "execution_count": 353,
   "id": "bb7430a5",
   "metadata": {},
   "outputs": [],
   "source": [
    "## Web Attack – Brute Force (9:20 – 10 a.m.)\n",
    "combine.drop(combine[(combine.stime>=1499350800)&(combine.stime<=1499353200)&(combine.label=='BENIGN')].index,inplace=True)"
   ]
  },
  {
   "cell_type": "code",
   "execution_count": 354,
   "id": "1afa5b16",
   "metadata": {},
   "outputs": [
    {
     "data": {
      "text/plain": [
       "(4071767, 11)"
      ]
     },
     "execution_count": 354,
     "metadata": {},
     "output_type": "execute_result"
    }
   ],
   "source": [
    "combine.shape"
   ]
  },
  {
   "cell_type": "markdown",
   "id": "94cc71e7",
   "metadata": {},
   "source": [
    "## Wednesday"
   ]
  },
  {
   "cell_type": "code",
   "execution_count": 303,
   "id": "bc5995b9",
   "metadata": {},
   "outputs": [],
   "source": [
    "## Heartbleed Port 444 (15:12 - 15:32)\n",
    "combine.drop(combine[(combine.stime>=1499285520)&(combine.stime<=1499286720)&(combine.label=='BENIGN')].index,inplace=True)"
   ]
  },
  {
   "cell_type": "code",
   "execution_count": 302,
   "id": "c9d83edc",
   "metadata": {},
   "outputs": [],
   "source": [
    "## DoS GoldenEye (11:10 – 11:23 a.m.)\n",
    "combine.drop(combine[(combine.stime>=1499271000)&(combine.stime<=1499271780)&(combine.label=='BENIGN')].index,inplace=True)"
   ]
  },
  {
   "cell_type": "code",
   "execution_count": 301,
   "id": "ffcdfe3a",
   "metadata": {},
   "outputs": [],
   "source": [
    "## DoS Hulk (10:43 – 11 a.m.)\n",
    "combine.drop(combine[(combine.stime>=1499269380)&(combine.stime<=1499270400)&(combine.label=='BENIGN')].index,inplace=True)"
   ]
  },
  {
   "cell_type": "code",
   "execution_count": 300,
   "id": "d0523a31",
   "metadata": {},
   "outputs": [],
   "source": [
    "##DoS Slowhttptest (10:14 – 10:35 a.m.)\n",
    "combine.drop(combine[(combine.stime>=1499267640)&(combine.stime<=1499268900)&(combine.label=='BENIGN')].index,inplace=True)"
   ]
  },
  {
   "cell_type": "code",
   "execution_count": 299,
   "id": "345fd77f",
   "metadata": {},
   "outputs": [],
   "source": [
    "## DoS slowloris (9:47 – 10:10 a.m.)\n",
    "combine.drop(combine[(combine.stime>=1499266020)&(combine.stime<=1499267400)&(combine.label=='BENIGN')].index,inplace=True)"
   ]
  },
  {
   "cell_type": "code",
   "execution_count": 306,
   "id": "8787dbe6",
   "metadata": {},
   "outputs": [
    {
     "data": {
      "text/plain": [
       "(16436931, 11)"
      ]
     },
     "execution_count": 306,
     "metadata": {},
     "output_type": "execute_result"
    }
   ],
   "source": [
    "combine.shape"
   ]
  },
  {
   "cell_type": "markdown",
   "id": "c135afd5",
   "metadata": {},
   "source": [
    "## Tuesday"
   ]
  },
  {
   "cell_type": "code",
   "execution_count": 212,
   "id": "0623593f",
   "metadata": {},
   "outputs": [],
   "source": [
    "## FTP-Patator (9:20 – 10:20 a.m.)\n",
    "combine.drop(combine[(combine.stime>=1499177940)&(combine.stime<=1499181660)&(combine.label=='BENIGN')].index,inplace=True)"
   ]
  },
  {
   "cell_type": "code",
   "execution_count": 220,
   "id": "59785f42",
   "metadata": {},
   "outputs": [],
   "source": [
    "1499194800.0\n",
    "##SSH-Patator (14:00 – 15:00 p.m.)\n",
    "combine.drop(combine[(combine.stime>=1499194800)&(combine.stime<=1499198400)&(combine.label=='BENIGN')].index,inplace=True)"
   ]
  },
  {
   "cell_type": "markdown",
   "id": "fef7fbcc",
   "metadata": {},
   "source": [
    "## Reading and Combining All Labelled Files"
   ]
  },
  {
   "cell_type": "code",
   "execution_count": 2,
   "id": "cb431edf",
   "metadata": {},
   "outputs": [],
   "source": [
    "def combine_CICIDS(in_file_path,out_path):\n",
    "    combine=pd.DataFrame(columns=['srcip', 'sport', 'dstip', 'dsport', 'protocol_m',\n",
    "     'sttl', 'total_len', 'payload', 't_delta', 'stime','label'])\n",
    "    for files in in_file_path:\n",
    "        df=pd.read_csv(files)\n",
    "        combine=combine.append(df, ignore_index=True)\n",
    "        print(combine.shape)\n",
    "    csv_out=out_path+\"combined_labelled_pcap_csv.csv\"\n",
    "    logging.info(\"Exporting_combined_csv_file....\")\n",
    "    combine.to_csv(csv_out,index=False)\n",
    "    return combine"
   ]
  },
  {
   "cell_type": "code",
   "execution_count": 3,
   "id": "eba0bfcf",
   "metadata": {},
   "outputs": [],
   "source": [
    "label_csv=\"F:/Project_Data/NIDS/CICIDS_result/Labelled_pcap_file/\"\n",
    "in_file=[]\n",
    "for x in range(1,6): ## Starting & Ending values for the files\n",
    "    in_file.append(label_csv+\"labelled_pcap_csv_\"+str(x)+\".csv\")\n",
    "out_path=\"F:/Project_Data/NIDS/CICIDS_result/Labelled_pcap_file/Combined/\""
   ]
  },
  {
   "cell_type": "code",
   "execution_count": 4,
   "id": "bc197d01",
   "metadata": {},
   "outputs": [
    {
     "name": "stdout",
     "output_type": "stream",
     "text": [
      "(5633567, 11)\n",
      "(9150136, 12)\n",
      "(25587067, 12)\n",
      "(29658834, 12)\n"
     ]
    },
    {
     "name": "stderr",
     "output_type": "stream",
     "text": [
      "INFO:root:Exporting_combined_csv_file....\n"
     ]
    },
    {
     "name": "stdout",
     "output_type": "stream",
     "text": [
      "(35507027, 12)\n"
     ]
    }
   ],
   "source": [
    "df_payload=combine_CICIDS(in_file,out_path)"
   ]
  },
  {
   "cell_type": "code",
   "execution_count": 7,
   "id": "e8cb374f",
   "metadata": {},
   "outputs": [
    {
     "data": {
      "text/plain": [
       "(35507027, 12)"
      ]
     },
     "execution_count": 7,
     "metadata": {},
     "output_type": "execute_result"
    }
   ],
   "source": [
    "df_payload.shape"
   ]
  },
  {
   "cell_type": "code",
   "execution_count": 6,
   "id": "cb7634ef",
   "metadata": {},
   "outputs": [
    {
     "data": {
      "text/plain": [
       "BENIGN                        23154473\n",
       "DoS Hulk                       9211652\n",
       "DDoS                           1495765\n",
       "DoS GoldenEye                   489471\n",
       "DoS slowloris                   375252\n",
       "DoS Slowhttptest                312365\n",
       "PortScan                        166146\n",
       "Infiltration                    115097\n",
       "SSH-Patator                      66573\n",
       "FTP-Patator                      50141\n",
       "Web Attack – Brute Force         27948\n",
       "Heartbleed                       23320\n",
       "Bot                              10422\n",
       "Web Attack – XSS                  8335\n",
       "Web Attack – Sql Injection          67\n",
       "Name: label, dtype: int64"
      ]
     },
     "execution_count": 6,
     "metadata": {},
     "output_type": "execute_result"
    }
   ],
   "source": [
    "df_payload.label.value_counts()"
   ]
  },
  {
   "cell_type": "code",
   "execution_count": 11,
   "id": "1011a222",
   "metadata": {},
   "outputs": [],
   "source": [
    "df_payload.drop(df_payload[df_payload.payload.isnull()].index,inplace=True)"
   ]
  },
  {
   "cell_type": "code",
   "execution_count": 116,
   "id": "215877a3",
   "metadata": {},
   "outputs": [
    {
     "data": {
      "text/plain": [
       "(19367138, 13)"
      ]
     },
     "execution_count": 116,
     "metadata": {},
     "output_type": "execute_result"
    }
   ],
   "source": [
    "df_payload.shape"
   ]
  },
  {
   "cell_type": "code",
   "execution_count": 100,
   "id": "25f81688",
   "metadata": {},
   "outputs": [],
   "source": [
    "x=df_payload['payload']\n",
    "new=[]\n",
    "for p in range(len(x)):\n",
    "    try:\n",
    "        o=(int((x.iloc[p]), 16))\n",
    "        if o>0:\n",
    "            new.append(1)\n",
    "        else:\n",
    "            new.append(0)\n",
    "    except Exception as e:\n",
    "        print(p)\n",
    "        new.append('Big')"
   ]
  },
  {
   "cell_type": "code",
   "execution_count": 115,
   "id": "6493348d",
   "metadata": {},
   "outputs": [],
   "source": [
    "df_payload['payload_int']=new"
   ]
  },
  {
   "cell_type": "code",
   "execution_count": 117,
   "id": "0ac92105",
   "metadata": {},
   "outputs": [],
   "source": [
    "df_payload.drop(df_payload[df_payload.payload_int==0].index,inplace=True)"
   ]
  },
  {
   "cell_type": "code",
   "execution_count": 119,
   "id": "fd02ae74",
   "metadata": {},
   "outputs": [
    {
     "data": {
      "text/plain": [
       "BENIGN                        16073175\n",
       "DoS Hulk                       2495632\n",
       "DDoS                            241405\n",
       "DoS GoldenEye                   128122\n",
       "DoS slowloris                   121097\n",
       "Infiltration                    115007\n",
       "DoS Slowhttptest                 80542\n",
       "SSH-Patator                      48165\n",
       "FTP-Patator                      31843\n",
       "Heartbleed                       13486\n",
       "Web Attack – Brute Force         11754\n",
       "Web Attack – XSS                  3341\n",
       "Bot                               2543\n",
       "PortScan                           830\n",
       "Web Attack – Sql Injection          12\n",
       "Name: label, dtype: int64"
      ]
     },
     "execution_count": 119,
     "metadata": {},
     "output_type": "execute_result"
    }
   ],
   "source": [
    "## After Removing zero payload\n",
    "df_payload.label.value_counts()"
   ]
  },
  {
   "cell_type": "code",
   "execution_count": null,
   "id": "0acc8e11",
   "metadata": {},
   "outputs": [],
   "source": [
    "df_payload.pop('payload_int')"
   ]
  },
  {
   "cell_type": "code",
   "execution_count": 133,
   "id": "24d6ce00",
   "metadata": {},
   "outputs": [],
   "source": [
    "df_payload.sttl=df_payload.sttl.astype('int32')\n",
    "df_payload.dsport=df_payload.dsport.astype('int32')\n",
    "df_payload.sport=df_payload.sport.astype('int32')\n",
    "df_payload.total_len=df_payload.total_len.astype('int32')"
   ]
  },
  {
   "cell_type": "code",
   "execution_count": 136,
   "id": "b177b982",
   "metadata": {},
   "outputs": [],
   "source": [
    "df_payload.to_csv(\"F:/Project_Data/NIDS/CICIDS_result/Labelled_pcap_file/Combined/combined_labelled_cleaned_sorted_pcap_csv.csv\",index=False)"
   ]
  },
  {
   "cell_type": "code",
   "execution_count": 140,
   "id": "8508aaeb",
   "metadata": {},
   "outputs": [
    {
     "data": {
      "text/html": [
       "<div>\n",
       "<style scoped>\n",
       "    .dataframe tbody tr th:only-of-type {\n",
       "        vertical-align: middle;\n",
       "    }\n",
       "\n",
       "    .dataframe tbody tr th {\n",
       "        vertical-align: top;\n",
       "    }\n",
       "\n",
       "    .dataframe thead th {\n",
       "        text-align: right;\n",
       "    }\n",
       "</style>\n",
       "<table border=\"1\" class=\"dataframe\">\n",
       "  <thead>\n",
       "    <tr style=\"text-align: right;\">\n",
       "      <th></th>\n",
       "      <th>srcip</th>\n",
       "      <th>sport</th>\n",
       "      <th>dstip</th>\n",
       "      <th>dsport</th>\n",
       "      <th>protocol_m</th>\n",
       "      <th>sttl</th>\n",
       "      <th>total_len</th>\n",
       "      <th>payload</th>\n",
       "      <th>t_delta</th>\n",
       "      <th>stime</th>\n",
       "    </tr>\n",
       "  </thead>\n",
       "  <tbody>\n",
       "    <tr>\n",
       "      <th>8</th>\n",
       "      <td>192.168.10.9</td>\n",
       "      <td>1034</td>\n",
       "      <td>192.168.10.3</td>\n",
       "      <td>88</td>\n",
       "      <td>tcp</td>\n",
       "      <td>128</td>\n",
       "      <td>1437</td>\n",
       "      <td>000005716c82056d30820569a103020105a20302010ca3...</td>\n",
       "      <td>0.000002</td>\n",
       "      <td>1.499090e+09</td>\n",
       "    </tr>\n",
       "    <tr>\n",
       "      <th>12</th>\n",
       "      <td>192.168.10.9</td>\n",
       "      <td>1034</td>\n",
       "      <td>192.168.10.3</td>\n",
       "      <td>88</td>\n",
       "      <td>tcp</td>\n",
       "      <td>128</td>\n",
       "      <td>1437</td>\n",
       "      <td>000005716c82056d30820569a103020105a20302010ca3...</td>\n",
       "      <td>0.000046</td>\n",
       "      <td>1.499090e+09</td>\n",
       "    </tr>\n",
       "    <tr>\n",
       "      <th>15</th>\n",
       "      <td>192.168.10.3</td>\n",
       "      <td>88</td>\n",
       "      <td>192.168.10.9</td>\n",
       "      <td>1034</td>\n",
       "      <td>tcp</td>\n",
       "      <td>128</td>\n",
       "      <td>1450</td>\n",
       "      <td>0000057e6d82057a30820576a003020105a10302010da3...</td>\n",
       "      <td>0.000049</td>\n",
       "      <td>1.499090e+09</td>\n",
       "    </tr>\n",
       "    <tr>\n",
       "      <th>16</th>\n",
       "      <td>192.168.10.3</td>\n",
       "      <td>88</td>\n",
       "      <td>192.168.10.9</td>\n",
       "      <td>1034</td>\n",
       "      <td>tcp</td>\n",
       "      <td>128</td>\n",
       "      <td>1450</td>\n",
       "      <td>0000057e6d82057a30820576a003020105a10302010da3...</td>\n",
       "      <td>0.000284</td>\n",
       "      <td>1.499090e+09</td>\n",
       "    </tr>\n",
       "    <tr>\n",
       "      <th>20</th>\n",
       "      <td>192.168.10.9</td>\n",
       "      <td>1030</td>\n",
       "      <td>192.168.10.3</td>\n",
       "      <td>445</td>\n",
       "      <td>tcp</td>\n",
       "      <td>128</td>\n",
       "      <td>158</td>\n",
       "      <td>0900000048002a005c005c00440043002e005400650073...</td>\n",
       "      <td>0.000422</td>\n",
       "      <td>1.499090e+09</td>\n",
       "    </tr>\n",
       "    <tr>\n",
       "      <th>...</th>\n",
       "      <td>...</td>\n",
       "      <td>...</td>\n",
       "      <td>...</td>\n",
       "      <td>...</td>\n",
       "      <td>...</td>\n",
       "      <td>...</td>\n",
       "      <td>...</td>\n",
       "      <td>...</td>\n",
       "      <td>...</td>\n",
       "      <td>...</td>\n",
       "    </tr>\n",
       "    <tr>\n",
       "      <th>35506993</th>\n",
       "      <td>192.168.10.16</td>\n",
       "      <td>43619</td>\n",
       "      <td>192.168.10.3</td>\n",
       "      <td>53</td>\n",
       "      <td>udp</td>\n",
       "      <td>64</td>\n",
       "      <td>60</td>\n",
       "      <td>ecb6010000010000000000000377777706706172616c79...</td>\n",
       "      <td>0.000333</td>\n",
       "      <td>1.499462e+09</td>\n",
       "    </tr>\n",
       "    <tr>\n",
       "      <th>35506994</th>\n",
       "      <td>192.168.10.16</td>\n",
       "      <td>43619</td>\n",
       "      <td>192.168.10.3</td>\n",
       "      <td>53</td>\n",
       "      <td>udp</td>\n",
       "      <td>64</td>\n",
       "      <td>60</td>\n",
       "      <td>ecb6010000010000000000000377777706706172616c79...</td>\n",
       "      <td>0.000004</td>\n",
       "      <td>1.499462e+09</td>\n",
       "    </tr>\n",
       "    <tr>\n",
       "      <th>35506995</th>\n",
       "      <td>192.168.10.16</td>\n",
       "      <td>10009</td>\n",
       "      <td>192.168.10.3</td>\n",
       "      <td>53</td>\n",
       "      <td>udp</td>\n",
       "      <td>64</td>\n",
       "      <td>60</td>\n",
       "      <td>4f5b010000010000000000000377777706706172616c79...</td>\n",
       "      <td>0.000001</td>\n",
       "      <td>1.499462e+09</td>\n",
       "    </tr>\n",
       "    <tr>\n",
       "      <th>35506996</th>\n",
       "      <td>192.168.10.16</td>\n",
       "      <td>38920</td>\n",
       "      <td>192.168.10.3</td>\n",
       "      <td>53</td>\n",
       "      <td>udp</td>\n",
       "      <td>64</td>\n",
       "      <td>56</td>\n",
       "      <td>3663010000010000000000000264730461647667026a70...</td>\n",
       "      <td>0.000001</td>\n",
       "      <td>1.499462e+09</td>\n",
       "    </tr>\n",
       "    <tr>\n",
       "      <th>35507010</th>\n",
       "      <td>192.168.10.16</td>\n",
       "      <td>48110</td>\n",
       "      <td>104.76.110.48</td>\n",
       "      <td>80</td>\n",
       "      <td>tcp</td>\n",
       "      <td>64</td>\n",
       "      <td>429</td>\n",
       "      <td>474554202f44313139312f706172616c792f506172616c...</td>\n",
       "      <td>0.000166</td>\n",
       "      <td>1.499462e+09</td>\n",
       "    </tr>\n",
       "  </tbody>\n",
       "</table>\n",
       "<p>19366954 rows × 10 columns</p>\n",
       "</div>"
      ],
      "text/plain": [
       "                  srcip  sport          dstip  dsport protocol_m  sttl  \\\n",
       "8          192.168.10.9   1034   192.168.10.3      88        tcp   128   \n",
       "12         192.168.10.9   1034   192.168.10.3      88        tcp   128   \n",
       "15         192.168.10.3     88   192.168.10.9    1034        tcp   128   \n",
       "16         192.168.10.3     88   192.168.10.9    1034        tcp   128   \n",
       "20         192.168.10.9   1030   192.168.10.3     445        tcp   128   \n",
       "...                 ...    ...            ...     ...        ...   ...   \n",
       "35506993  192.168.10.16  43619   192.168.10.3      53        udp    64   \n",
       "35506994  192.168.10.16  43619   192.168.10.3      53        udp    64   \n",
       "35506995  192.168.10.16  10009   192.168.10.3      53        udp    64   \n",
       "35506996  192.168.10.16  38920   192.168.10.3      53        udp    64   \n",
       "35507010  192.168.10.16  48110  104.76.110.48      80        tcp    64   \n",
       "\n",
       "          total_len                                            payload  \\\n",
       "8              1437  000005716c82056d30820569a103020105a20302010ca3...   \n",
       "12             1437  000005716c82056d30820569a103020105a20302010ca3...   \n",
       "15             1450  0000057e6d82057a30820576a003020105a10302010da3...   \n",
       "16             1450  0000057e6d82057a30820576a003020105a10302010da3...   \n",
       "20              158  0900000048002a005c005c00440043002e005400650073...   \n",
       "...             ...                                                ...   \n",
       "35506993         60  ecb6010000010000000000000377777706706172616c79...   \n",
       "35506994         60  ecb6010000010000000000000377777706706172616c79...   \n",
       "35506995         60  4f5b010000010000000000000377777706706172616c79...   \n",
       "35506996         56  3663010000010000000000000264730461647667026a70...   \n",
       "35507010        429  474554202f44313139312f706172616c792f506172616c...   \n",
       "\n",
       "           t_delta         stime  \n",
       "8         0.000002  1.499090e+09  \n",
       "12        0.000046  1.499090e+09  \n",
       "15        0.000049  1.499090e+09  \n",
       "16        0.000284  1.499090e+09  \n",
       "20        0.000422  1.499090e+09  \n",
       "...            ...           ...  \n",
       "35506993  0.000333  1.499462e+09  \n",
       "35506994  0.000004  1.499462e+09  \n",
       "35506995  0.000001  1.499462e+09  \n",
       "35506996  0.000001  1.499462e+09  \n",
       "35507010  0.000166  1.499462e+09  \n",
       "\n",
       "[19366954 rows x 10 columns]"
      ]
     },
     "execution_count": 140,
     "metadata": {},
     "output_type": "execute_result"
    }
   ],
   "source": [
    "df_payload.iloc[:,:-1]"
   ]
  },
  {
   "cell_type": "markdown",
   "id": "1d21b619",
   "metadata": {},
   "source": [
    "## Reducing Number of Instances for Dataset"
   ]
  },
  {
   "cell_type": "code",
   "execution_count": 137,
   "id": "b690aa48",
   "metadata": {},
   "outputs": [],
   "source": [
    "from imblearn.under_sampling import RandomUnderSampler "
   ]
  },
  {
   "cell_type": "code",
   "execution_count": 143,
   "id": "5332003c",
   "metadata": {},
   "outputs": [],
   "source": [
    "dict1={ 'BENIGN': 362108,\n",
    "'DoS Hulk':          250000,\n",
    "'DDoS'  :         241405,\n",
    "'DoS GoldenEye':     128122,\n",
    "'DoS slowloris':    121097,\n",
    "'Infiltration'        :115007,\n",
    "'DoS Slowhttptest'         :  80542,\n",
    "'SSH-Patator':          48165,\n",
    "'FTP-Patator'            :   31843,\n",
    "'Heartbleed'              :  13486,\n",
    "'Web Attack – Brute Force'            :   11754,\n",
    "'Web Attack – XSS'              :  3341,\n",
    "'Bot'            :   2543,\n",
    "'PortScan'              :  830,\n",
    "'Web Attack – Sql Injection': 12\n",
    "}"
   ]
  },
  {
   "cell_type": "code",
   "execution_count": 144,
   "id": "49f91b56",
   "metadata": {},
   "outputs": [],
   "source": [
    "rus = RandomUnderSampler(random_state=42,sampling_strategy=dict1)"
   ]
  },
  {
   "cell_type": "code",
   "execution_count": 145,
   "id": "5305bfab",
   "metadata": {},
   "outputs": [],
   "source": [
    "X_res, y_res = rus.fit_resample(df_payload.iloc[:,:-1], df_payload.iloc[:,-1])"
   ]
  },
  {
   "cell_type": "code",
   "execution_count": 149,
   "id": "07116421",
   "metadata": {},
   "outputs": [],
   "source": [
    "X_res['label']=y_res"
   ]
  },
  {
   "cell_type": "code",
   "execution_count": 150,
   "id": "167bc48d",
   "metadata": {},
   "outputs": [],
   "source": [
    "X_res.to_csv(\"F:/Project_Data/NIDS/CICIDS_result/Labelled_pcap_file/Combined/combined_labelled_cleaned_undersampled_pcap_csv.csv\",index=False)"
   ]
  },
  {
   "cell_type": "markdown",
   "id": "44f21240",
   "metadata": {},
   "source": [
    "## Transformation into Byte-wise features"
   ]
  },
  {
   "cell_type": "code",
   "execution_count": null,
   "id": "f3d9f36d",
   "metadata": {},
   "outputs": [],
   "source": [
    "from sklearn.preprocessing import LabelEncoder\n",
    "le = LabelEncoder()\n",
    "label = le.fit_transform(X_res['protocol_m'])\n",
    "X_res['protocol']=label\n",
    "\n",
    "X_res.drop(\"protocol_m\", axis=1, inplace=True)\n",
    "X_res.drop(\"protocol_s\", axis=1, inplace=True)\n",
    "X_res.drop(\"frame_num\", axis=1, inplace=True)\n",
    "\n",
    "X_res['attack_cat']=y_res"
   ]
  },
  {
   "cell_type": "code",
   "execution_count": null,
   "id": "749f4435",
   "metadata": {},
   "outputs": [],
   "source": [
    "X_tr,Ytrain =payload_to_bytes(X_res,1500)"
   ]
  },
  {
   "cell_type": "code",
   "execution_count": null,
   "id": "679724a8",
   "metadata": {},
   "outputs": [],
   "source": [
    "X_tr = np.column_stack((X_tr,np.array(X_res.iloc[:,6])))\n",
    "X_tr = np.column_stack((X_tr,np.array(X_res.iloc[:,7])))\n",
    "X_tr = np.column_stack((X_tr,np.array(X_res.iloc[:,5])))\n",
    "X_tr = np.column_stack((X_tr,np.array(X_res.iloc[:,9])))"
   ]
  },
  {
   "cell_type": "code",
   "execution_count": null,
   "id": "9602a780",
   "metadata": {},
   "outputs": [],
   "source": [
    "name=[]\n",
    "for x in range(1,1501):\n",
    "    name.append(\"payload_byte_\"+str(x))\n",
    "name.append(\"ttl\")\n",
    "name.append(\"total_len\")\n",
    "name.append(\"protocol\")\n",
    "name.append(\"t_delta\")"
   ]
  },
  {
   "cell_type": "code",
   "execution_count": null,
   "id": "f1089d3a",
   "metadata": {},
   "outputs": [],
   "source": [
    "df = pd.DataFrame(X_tr, columns=name)\n",
    "df['label']=Ytrain"
   ]
  },
  {
   "cell_type": "code",
   "execution_count": null,
   "id": "94706103",
   "metadata": {},
   "outputs": [],
   "source": [
    "df.to_csv(\"F:/Converted_data_CICIDS.csv\",index=False)"
   ]
  },
  {
   "cell_type": "markdown",
   "id": "c9ec5cfb",
   "metadata": {},
   "source": [
    "## Extra Code/ Conversion Epoch"
   ]
  },
  {
   "cell_type": "code",
   "execution_count": null,
   "id": "d36998f3",
   "metadata": {},
   "outputs": [],
   "source": [
    "df_payload['stime'].fillna(df_payload['stime_y'],inplace=True)\n",
    "df_payload.pop('stime_y')"
   ]
  },
  {
   "cell_type": "markdown",
   "id": "4047605a",
   "metadata": {},
   "source": [
    "### Transformation into epoch Format"
   ]
  },
  {
   "cell_type": "code",
   "execution_count": 377,
   "id": "9c219d33",
   "metadata": {},
   "outputs": [
    {
     "name": "stdout",
     "output_type": "stream",
     "text": [
      "1499462160.0\n"
     ]
    }
   ],
   "source": [
    "x='07/07/2017 16:16:00'\n",
    "m2 = datetime.strptime(x, '%d/%m/%Y %H:%M:%S').timestamp()\n",
    "print(m2)"
   ]
  },
  {
   "cell_type": "code",
   "execution_count": null,
   "id": "8ef9b1ba",
   "metadata": {},
   "outputs": [],
   "source": [
    "ts_epoch =1499457761\n",
    "ts = datetime.fromtimestamp(ts_epoch).strftime('%d/%m/%Y %H:%M:%S')\n",
    "ts"
   ]
  }
 ],
 "metadata": {
  "kernelspec": {
   "display_name": "Python 3 (ipykernel)",
   "language": "python",
   "name": "python3"
  },
  "language_info": {
   "codemirror_mode": {
    "name": "ipython",
    "version": 3
   },
   "file_extension": ".py",
   "mimetype": "text/x-python",
   "name": "python",
   "nbconvert_exporter": "python",
   "pygments_lexer": "ipython3",
   "version": "3.7.13"
  }
 },
 "nbformat": 4,
 "nbformat_minor": 5
}
