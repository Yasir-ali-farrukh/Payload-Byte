{
 "cells": [
  {
   "cell_type": "markdown",
   "id": "47a0d8cb",
   "metadata": {},
   "source": [
    "## Optimized_Parser_approach CICIDS\n",
    "\n",
    "\n",
    "This approach comprises of extracting pcap file features utilizing own developed pcap parser. Then utilizing it for comparison and labelling. Prominent steps for this approach are:\n",
    "1. Extract Pcap file features into csv using developed parser. \n",
    "2. Perform labelling by comparing pre-processed UNSW CSV file and pcap parsed file (in .csv format).This approach compares both file using 5 distinct features which are :\n",
    "\n",
    "> a)  Source IP Address(*srcip*) \n",
    ">\n",
    "> b)  Destination IP Address(*dstip*)\n",
    ">\n",
    "> c)  Destination Port Number(*dsport*)\n",
    ">\n",
    "> d)  Source Port Numbe(*sport*)\n",
    ">\n",
    "> e)  Transaction Protocol(*protocol_m*)\n",
    "\n",
    "3. Moreover, time duration is utilized to cross validate the attacks. The time duration is available at the official site of the dataset.\n",
    "            \n",
    "\n"
   ]
  },
  {
   "cell_type": "code",
   "execution_count": null,
   "id": "b8074280",
   "metadata": {},
   "outputs": [],
   "source": [
    "import sys\n",
    "sys.path.append(\"C:\\\\Users\\\\yasir.ali\\\\Project\\\\Payload-Byte\")\n",
    "## append path for your project"
   ]
  },
  {
   "cell_type": "code",
   "execution_count": null,
   "id": "7ff3f6f5",
   "metadata": {},
   "outputs": [],
   "source": [
    "import hashlib as hl\n",
    "import csv\n",
    "from datetime import datetime\n",
    "from os import close\n",
    "import numpy as np\n",
    "import logging\n",
    "import argparse\n",
    "import sys\n",
    "from datetime import datetime\n",
    "from datetime import timezone\n",
    "import socket\n",
    "import math\n",
    "import pickle\n",
    "import random\n",
    "import pandas as pd\n",
    "from Functions.Functions_wireshark import *\n",
    "from Functions.Optimized_Parser_Labelling import *\n",
    "log = logging.getLogger()\n",
    "log.setLevel(logging.DEBUG)"
   ]
  },
  {
   "cell_type": "code",
   "execution_count": null,
   "id": "4eb4807b",
   "metadata": {},
   "outputs": [],
   "source": [
    "## Checking ambiguity in the given time\n",
    "df_p['Check']=df_p['Timestamp'].apply(lambda x: 100 if x.count(':') == 1 else 200)\n",
    "df_p.Check.value_counts()"
   ]
  },
  {
   "cell_type": "markdown",
   "id": "743c9e2e",
   "metadata": {},
   "source": [
    "## Reading pre-processed CSV File of CICIDS\n"
   ]
  },
  {
   "cell_type": "code",
   "execution_count": null,
   "id": "81ceabd6",
   "metadata": {},
   "outputs": [],
   "source": [
    "df_p=pd.read_csv('F:/Project_Data/NIDS/CSV-Files-CICIDS-2017/Preprocessed-Data/CICIDS.csv')\n",
    "df_p=df_p[['Timestamp','Source IP','Destination IP','Destination Port','Source Port','Protocol','Label']]\n",
    "df_p.rename(columns={'Timestamp': 'stime', 'Source IP': 'srcip', 'Destination IP': 'dstip', 'Destination Port': 'dsport', 'Source Port': 'sport', 'Label': 'label','Protocol': 'protocol_m'}, inplace=True)\n",
    "\n",
    "#Converting time into epoch format along with the mitigation of AM/PM issue.\n",
    "df_p['stime']=df_p['stime'].apply(lambda x: (datetime.strptime(x, '%d/%m/%Y %H:%M')) if x.count(':') == 1 else  (datetime.strptime(x, '%d/%m/%Y %H:%M:%S')))\n",
    "df_p['stime']=df_p['stime'].apply(lambda x: int((datetime(x.year,x.month,x.day,(x.hour+15),x.minute,x.second,tzinfo=timezone.utc)).timestamp()) if (x.hour>=1)&(x.hour<=7) else int((datetime(x.year,x.month,x.day,(x.hour+3),x.minute,x.second,tzinfo=timezone.utc)).timestamp()))\n",
    "df_p=df_p.sort_values(by='stime')"
   ]
  },
  {
   "cell_type": "code",
   "execution_count": null,
   "id": "e14bd36d",
   "metadata": {},
   "outputs": [],
   "source": [
    "df_p['protocol_m'] = df_p['protocol_m'].astype(str)\n",
    "df_p['protocol_m']=df_p['protocol_m'].apply(lambda x: x.replace('6.0', 'tcp'))\n",
    "df_p['protocol_m']=df_p['protocol_m'].apply(lambda x: x.replace('17.0', 'udp'))\n",
    "df_p['protocol_m']=df_p['protocol_m'].apply(lambda x: x.replace('0.0', 'other'))"
   ]
  },
  {
   "cell_type": "code",
   "execution_count": null,
   "id": "1720c15f",
   "metadata": {},
   "outputs": [],
   "source": [
    "df_p.label.value_counts()"
   ]
  },
  {
   "cell_type": "markdown",
   "id": "650ed84a",
   "metadata": {},
   "source": [
    "## Parsing PCAP files into CSV"
   ]
  },
  {
   "cell_type": "code",
   "execution_count": null,
   "id": "8446ff4e",
   "metadata": {},
   "outputs": [],
   "source": [
    "pcap='F:/Project_Data/NIDS/Pcap-Files-CICIDS-2017/'\n",
    "pcap_file=[]\n",
    "days=['Monday','Tuesday','Wednesday','Thursday','Friday']\n",
    "for x in days:\n",
    "    pcap_file.append(pcap+x+\"-WorkingHours\"+\".pcap\")\n",
    "    \n",
    "    \n",
    "out_file='F:/Project_Data/NIDS/CICIDS_result/pcap_file_csv_parser/'"
   ]
  },
  {
   "cell_type": "code",
   "execution_count": null,
   "id": "4110e106",
   "metadata": {},
   "outputs": [],
   "source": [
    "pcap_parser(pcap_file,out_file,1)"
   ]
  },
  {
   "cell_type": "markdown",
   "id": "43f65b4a",
   "metadata": {},
   "source": [
    "## Labeling & Combining of Parsed PCAP files"
   ]
  },
  {
   "cell_type": "code",
   "execution_count": null,
   "id": "90ad13f5",
   "metadata": {},
   "outputs": [],
   "source": [
    "df=pd.read_csv(\"F:/Project_Data/NIDS/CICIDS_result/pcap_file_csv_parser/pcap_csv_1.csv\",index_col=0)\n",
    "df=df.sort_values(by='stime')"
   ]
  },
  {
   "cell_type": "code",
   "execution_count": null,
   "id": "28b4914d",
   "metadata": {},
   "outputs": [],
   "source": [
    "# df=df.sort_values(by='stime')\n",
    "stime=df.stime[0]\n",
    "ltime=int(df.stime.tail(1))\n",
    "print(\"Start Value:\",df.stime[0])\n",
    "print(\"End Value:\", int(df.stime.tail(1)))"
   ]
  },
  {
   "cell_type": "code",
   "execution_count": null,
   "id": "f7bc3d90",
   "metadata": {},
   "outputs": [],
   "source": [
    "df.drop(columns=['frame_num','stime','ltime','protocol_s'],inplace=True)"
   ]
  },
  {
   "cell_type": "code",
   "execution_count": null,
   "id": "26c1701e",
   "metadata": {},
   "outputs": [],
   "source": [
    "aa=df_p[(df_p['stime']>=stime) & (df_p['stime']<=ltime)]"
   ]
  },
  {
   "cell_type": "code",
   "execution_count": null,
   "id": "4e98edcc",
   "metadata": {},
   "outputs": [],
   "source": [
    "df_p.shape"
   ]
  },
  {
   "cell_type": "code",
   "execution_count": null,
   "id": "c7b1f5e7",
   "metadata": {},
   "outputs": [],
   "source": [
    "df.protocol_m.value_counts()"
   ]
  },
  {
   "cell_type": "code",
   "execution_count": null,
   "id": "1fa424dc",
   "metadata": {},
   "outputs": [],
   "source": [
    "aa.protocol_m.value_counts()"
   ]
  },
  {
   "cell_type": "markdown",
   "id": "768c2494",
   "metadata": {},
   "source": [
    "### `Labelling & Analyzing`\n"
   ]
  },
  {
   "cell_type": "code",
   "execution_count": null,
   "id": "5c808cf5",
   "metadata": {},
   "outputs": [],
   "source": [
    "combine=df.merge(aa, left_on=['srcip','dstip','dsport','sport','protocol_m'], right_on=['srcip','dstip','dsport','sport','protocol_m'])\n",
    "combine"
   ]
  },
  {
   "cell_type": "code",
   "execution_count": null,
   "id": "49c8a7b3",
   "metadata": {},
   "outputs": [],
   "source": [
    "combine.drop_duplicates(inplace=True)"
   ]
  },
  {
   "cell_type": "code",
   "execution_count": null,
   "id": "e8001027",
   "metadata": {},
   "outputs": [],
   "source": [
    "combine.shape"
   ]
  },
  {
   "cell_type": "code",
   "execution_count": null,
   "id": "78e17530",
   "metadata": {},
   "outputs": [],
   "source": [
    "combine.to_csv(\"F:/Project_Data/NIDS/CICIDS_result/Labelled_pcap_file/labelled_pcap_csv_1.csv\",index=False)"
   ]
  },
  {
   "cell_type": "markdown",
   "id": "14e10320",
   "metadata": {},
   "source": [
    "## Cross Validation of Time Frame of Attacks"
   ]
  },
  {
   "cell_type": "markdown",
   "id": "d5a44af4",
   "metadata": {},
   "source": [
    "## Friday"
   ]
  },
  {
   "cell_type": "markdown",
   "id": "09693695",
   "metadata": {},
   "source": [
    "#### Using time after transforming ADT time into UTC, since CSV file data is in ADT timezone and PCAP file data is in UTC+0:00. Therefore, to avoid any ambiguity transforming both of them to UTC."
   ]
  },
  {
   "cell_type": "code",
   "execution_count": null,
   "id": "4e37604c",
   "metadata": {},
   "outputs": [],
   "source": [
    "##  DDoS LOIT (15:56 – 16:16)\n",
    "combine.drop(combine[(combine.stime>=1499453760 )&(combine.stime<=1499454960 )&(combine.label=='BENIGN')].index,inplace=True)"
   ]
  },
  {
   "cell_type": "code",
   "execution_count": null,
   "id": "ec594ffa",
   "metadata": {},
   "outputs": [],
   "source": [
    "## Port Scan (13:55-15:30)\n",
    "combine.drop(combine[(combine.stime>=1499446500)&(combine.stime<=1499452200)&(combine.label=='BENIGN')].index,inplace=True)"
   ]
  },
  {
   "cell_type": "code",
   "execution_count": null,
   "id": "43fde770",
   "metadata": {},
   "outputs": [],
   "source": [
    "## Botnet ARES (10:02 a.m. – 11:02 a.m.)\n",
    "combine.drop(combine[(combine.stime>=1499432520)&(combine.stime<=1499436120)&(combine.label=='BENIGN')].index,inplace=True)"
   ]
  },
  {
   "cell_type": "code",
   "execution_count": null,
   "id": "924970e0",
   "metadata": {},
   "outputs": [],
   "source": [
    "combine.shape"
   ]
  },
  {
   "cell_type": "markdown",
   "id": "a0648745",
   "metadata": {},
   "source": [
    "## Thursday"
   ]
  },
  {
   "cell_type": "code",
   "execution_count": null,
   "id": "db33d140",
   "metadata": {},
   "outputs": [],
   "source": [
    "## Infiltration – Dropbox download (15:04 – 15:45 p.m.)\n",
    "combine.drop(combine[(combine.stime>=1499364240)&(combine.stime<=1499366700)&(combine.label=='BENIGN')].index,inplace=True)"
   ]
  },
  {
   "cell_type": "code",
   "execution_count": null,
   "id": "a80d04af",
   "metadata": {},
   "outputs": [],
   "source": [
    "## Infiltration – Dropbox download and (14:33 -14:35)\n",
    "combine.drop(combine[(combine.stime>=1499362380)&(combine.stime<=1499362500)&(combine.label=='BENIGN')].index,inplace=True)"
   ]
  },
  {
   "cell_type": "code",
   "execution_count": null,
   "id": "ed179b4a",
   "metadata": {},
   "outputs": [],
   "source": [
    "## Web Attack – Sql Injection (10:40 – 10:42 a.m.)\n",
    "combine.drop(combine[(combine.stime>=1499348400)&(combine.stime<=1499348520)&(combine.label=='BENIGN')].index,inplace=True)"
   ]
  },
  {
   "cell_type": "code",
   "execution_count": null,
   "id": "9347e9a5",
   "metadata": {},
   "outputs": [],
   "source": [
    "## Web Attack – XSS (10:15 – 10:35 a.m.)\n",
    "combine.drop(combine[(combine.stime>=1499346900)&(combine.stime<=1499348100)&(combine.label=='BENIGN')].index,inplace=True)"
   ]
  },
  {
   "cell_type": "code",
   "execution_count": null,
   "id": "bb7430a5",
   "metadata": {},
   "outputs": [],
   "source": [
    "## Web Attack – Brute Force (9:20 – 10 a.m.)\n",
    "combine.drop(combine[(combine.stime>=1499343600)&(combine.stime<=1499346000)&(combine.label=='BENIGN')].index,inplace=True)"
   ]
  },
  {
   "cell_type": "code",
   "execution_count": null,
   "id": "1afa5b16",
   "metadata": {},
   "outputs": [],
   "source": [
    "combine.shape"
   ]
  },
  {
   "cell_type": "markdown",
   "id": "94cc71e7",
   "metadata": {},
   "source": [
    "## Wednesday"
   ]
  },
  {
   "cell_type": "code",
   "execution_count": null,
   "id": "bc5995b9",
   "metadata": {},
   "outputs": [],
   "source": [
    "## Heartbleed Port 444 (15:12 - 15:32)\n",
    "combine.drop(combine[(combine.stime>=1499278320)&(combine.stime<=1499279520)&(combine.label=='BENIGN')].index,inplace=True)"
   ]
  },
  {
   "cell_type": "code",
   "execution_count": null,
   "id": "c9d83edc",
   "metadata": {},
   "outputs": [],
   "source": [
    "## DoS GoldenEye (11:10 – 11:23 a.m.)\n",
    "combine.drop(combine[(combine.stime>=1499263800)&(combine.stime<=1499264580)&(combine.label=='BENIGN')].index,inplace=True)"
   ]
  },
  {
   "cell_type": "code",
   "execution_count": null,
   "id": "ffcdfe3a",
   "metadata": {},
   "outputs": [],
   "source": [
    "## DoS Hulk (10:43 – 11 a.m.)\n",
    "combine.drop(combine[(combine.stime>=1499262180)&(combine.stime<=1499263200)&(combine.label=='BENIGN')].index,inplace=True)"
   ]
  },
  {
   "cell_type": "code",
   "execution_count": null,
   "id": "d0523a31",
   "metadata": {},
   "outputs": [],
   "source": [
    "##DoS Slowhttptest (10:14 – 10:35 a.m.)\n",
    "combine.drop(combine[(combine.stime>=1499260440)&(combine.stime<=1499261700)&(combine.label=='BENIGN')].index,inplace=True)"
   ]
  },
  {
   "cell_type": "code",
   "execution_count": null,
   "id": "345fd77f",
   "metadata": {},
   "outputs": [],
   "source": [
    "## DoS slowloris (9:47 – 10:10 a.m.)\n",
    "combine.drop(combine[(combine.stime>=1499258820)&(combine.stime<=1499260200)&(combine.label=='BENIGN')].index,inplace=True)"
   ]
  },
  {
   "cell_type": "code",
   "execution_count": null,
   "id": "8787dbe6",
   "metadata": {},
   "outputs": [],
   "source": [
    "combine.shape"
   ]
  },
  {
   "cell_type": "markdown",
   "id": "c135afd5",
   "metadata": {},
   "source": [
    "## Tuesday"
   ]
  },
  {
   "cell_type": "code",
   "execution_count": null,
   "id": "0623593f",
   "metadata": {},
   "outputs": [],
   "source": [
    "## FTP-Patator (9:20 – 10:20 a.m.) \n",
    "combine.drop(combine[(combine.stime>=1499170800)&(combine.stime<=1499174400)&(combine.label=='BENIGN')].index,inplace=True)"
   ]
  },
  {
   "cell_type": "code",
   "execution_count": null,
   "id": "59785f42",
   "metadata": {},
   "outputs": [],
   "source": [
    "##SSH-Patator (14:00 – 15:00 p.m.)\n",
    "combine.drop(combine[(combine.stime>=1499187600)&(combine.stime<=1499191200)&(combine.label=='BENIGN')].index,inplace=True)"
   ]
  },
  {
   "cell_type": "markdown",
   "id": "fef7fbcc",
   "metadata": {},
   "source": [
    "## Reading and Combining All Labelled Files"
   ]
  },
  {
   "cell_type": "code",
   "execution_count": null,
   "id": "cb431edf",
   "metadata": {},
   "outputs": [],
   "source": [
    "def combine_CICIDS(in_file_path,out_path):\n",
    "    combine=pd.DataFrame(columns=['srcip', 'sport', 'dstip', 'dsport', 'protocol_m',\n",
    "     'sttl', 'total_len', 'payload', 't_delta', 'stime','label'])\n",
    "    for files in in_file_path:\n",
    "        df=pd.read_csv(files)\n",
    "        combine=combine.append(df, ignore_index=True)\n",
    "        print(combine.shape)\n",
    "    csv_out=out_path+\"combined_labelled_pcap_csv.csv\"\n",
    "    logging.info(\"Exporting_combined_csv_file....\")\n",
    "    combine.to_csv(csv_out,index=False)\n",
    "    return combine"
   ]
  },
  {
   "cell_type": "code",
   "execution_count": null,
   "id": "eba0bfcf",
   "metadata": {},
   "outputs": [],
   "source": [
    "label_csv=\"F:/Project_Data/NIDS/CICIDS_result/Labelled_pcap_file/\"\n",
    "in_file=[]\n",
    "for x in range(1,6): ## Starting & Ending values for the files\n",
    "    in_file.append(label_csv+\"labelled_pcap_csv_\"+str(x)+\".csv\")\n",
    "out_path=\"F:/Project_Data/NIDS/CICIDS_result/Labelled_pcap_file/Combined/\""
   ]
  },
  {
   "cell_type": "code",
   "execution_count": null,
   "id": "bc197d01",
   "metadata": {},
   "outputs": [],
   "source": [
    "df_payload=combine_CICIDS(in_file,out_path)"
   ]
  },
  {
   "cell_type": "code",
   "execution_count": null,
   "id": "e8cb374f",
   "metadata": {},
   "outputs": [],
   "source": [
    "df_payload.shape"
   ]
  },
  {
   "cell_type": "code",
   "execution_count": null,
   "id": "cb7634ef",
   "metadata": {},
   "outputs": [],
   "source": [
    "df_payload.label.value_counts()"
   ]
  },
  {
   "cell_type": "code",
   "execution_count": null,
   "id": "1011a222",
   "metadata": {},
   "outputs": [],
   "source": [
    "df_payload.drop(df_payload[df_payload.payload.isnull()].index,inplace=True)"
   ]
  },
  {
   "cell_type": "code",
   "execution_count": null,
   "id": "215877a3",
   "metadata": {},
   "outputs": [],
   "source": [
    "df_payload.shape"
   ]
  },
  {
   "cell_type": "code",
   "execution_count": null,
   "id": "25f81688",
   "metadata": {},
   "outputs": [],
   "source": [
    "x=df_payload['payload']\n",
    "new=[]\n",
    "for p in range(len(x)):\n",
    "    try:\n",
    "        o=(int((x.iloc[p]), 16))\n",
    "        if o>0:\n",
    "            new.append(1)\n",
    "        else:\n",
    "            new.append(0)\n",
    "    except Exception as e:\n",
    "        print(p)\n",
    "        new.append('Big')"
   ]
  },
  {
   "cell_type": "code",
   "execution_count": null,
   "id": "6493348d",
   "metadata": {},
   "outputs": [],
   "source": [
    "df_payload['payload_int']=new"
   ]
  },
  {
   "cell_type": "code",
   "execution_count": null,
   "id": "0ac92105",
   "metadata": {},
   "outputs": [],
   "source": [
    "df_payload.drop(df_payload[df_payload.payload_int==0].index,inplace=True)"
   ]
  },
  {
   "cell_type": "code",
   "execution_count": null,
   "id": "fd02ae74",
   "metadata": {},
   "outputs": [],
   "source": [
    "## After Removing zero payload\n",
    "df_payload.label.value_counts()"
   ]
  },
  {
   "cell_type": "code",
   "execution_count": null,
   "id": "0acc8e11",
   "metadata": {},
   "outputs": [],
   "source": [
    "df_payload.pop('payload_int')"
   ]
  },
  {
   "cell_type": "code",
   "execution_count": null,
   "id": "24d6ce00",
   "metadata": {},
   "outputs": [],
   "source": [
    "df_payload.sttl=df_payload.sttl.astype('int32')\n",
    "df_payload.dsport=df_payload.dsport.astype('int32')\n",
    "df_payload.sport=df_payload.sport.astype('int32')\n",
    "df_payload.total_len=df_payload.total_len.astype('int32')"
   ]
  },
  {
   "cell_type": "code",
   "execution_count": null,
   "id": "b177b982",
   "metadata": {},
   "outputs": [],
   "source": [
    "df_payload.to_csv(\"F:/Project_Data/NIDS/CICIDS_result/Labelled_pcap_file/Combined/combined_labelled_cleaned_sorted_pcap_csv.csv\",index=False)"
   ]
  },
  {
   "cell_type": "code",
   "execution_count": null,
   "id": "8508aaeb",
   "metadata": {},
   "outputs": [],
   "source": [
    "df_payload.iloc[:,:-1]"
   ]
  },
  {
   "cell_type": "markdown",
   "id": "1d21b619",
   "metadata": {},
   "source": [
    "## Reducing Number of Instances for Dataset"
   ]
  },
  {
   "cell_type": "code",
   "execution_count": null,
   "id": "b690aa48",
   "metadata": {},
   "outputs": [],
   "source": [
    "from imblearn.under_sampling import RandomUnderSampler "
   ]
  },
  {
   "cell_type": "code",
   "execution_count": null,
   "id": "5332003c",
   "metadata": {},
   "outputs": [],
   "source": [
    "dict1={ 'BENIGN': 362108,\n",
    "'DoS Hulk':          250000,\n",
    "'DDoS'  :         241405,\n",
    "'DoS GoldenEye':     128122,\n",
    "'DoS slowloris':    121097,\n",
    "'Infiltration'        :115007,\n",
    "'DoS Slowhttptest'         :  80542,\n",
    "'SSH-Patator':          48165,\n",
    "'FTP-Patator'            :   31843,\n",
    "'Heartbleed'              :  13486,\n",
    "'Web Attack – Brute Force'            :   11754,\n",
    "'Web Attack – XSS'              :  3341,\n",
    "'Bot'            :   2543,\n",
    "'PortScan'              :  830,\n",
    "'Web Attack – Sql Injection': 12\n",
    "}"
   ]
  },
  {
   "cell_type": "code",
   "execution_count": null,
   "id": "49f91b56",
   "metadata": {},
   "outputs": [],
   "source": [
    "rus = RandomUnderSampler(random_state=42,sampling_strategy=dict1)"
   ]
  },
  {
   "cell_type": "code",
   "execution_count": null,
   "id": "5305bfab",
   "metadata": {},
   "outputs": [],
   "source": [
    "X_res, y_res = rus.fit_resample(df_payload.iloc[:,:-1], df_payload.iloc[:,-1])"
   ]
  },
  {
   "cell_type": "code",
   "execution_count": null,
   "id": "07116421",
   "metadata": {},
   "outputs": [],
   "source": [
    "X_res['label']=y_res"
   ]
  },
  {
   "cell_type": "code",
   "execution_count": null,
   "id": "167bc48d",
   "metadata": {},
   "outputs": [],
   "source": [
    "X_res.to_csv(\"F:/Project_Data/NIDS/CICIDS_result/Labelled_pcap_file/Combined/combined_labelled_cleaned_undersampled_pcap_csv.csv\",index=False)"
   ]
  },
  {
   "cell_type": "markdown",
   "id": "44f21240",
   "metadata": {},
   "source": [
    "## Transformation into Byte-wise features"
   ]
  },
  {
   "cell_type": "code",
   "execution_count": null,
   "id": "f3d9f36d",
   "metadata": {},
   "outputs": [],
   "source": [
    "from sklearn.preprocessing import LabelEncoder\n",
    "le = LabelEncoder()\n",
    "label = le.fit_transform(X_res['protocol_m'])\n",
    "X_res['protocol']=label\n",
    "\n",
    "X_res.drop(\"protocol_m\", axis=1, inplace=True)\n",
    "X_res.drop(\"protocol_s\", axis=1, inplace=True)\n",
    "X_res.drop(\"frame_num\", axis=1, inplace=True)\n",
    "\n",
    "X_res['attack_cat']=y_res"
   ]
  },
  {
   "cell_type": "code",
   "execution_count": null,
   "id": "749f4435",
   "metadata": {},
   "outputs": [],
   "source": [
    "X_tr,Ytrain =payload_to_bytes(X_res,1500)"
   ]
  },
  {
   "cell_type": "code",
   "execution_count": null,
   "id": "679724a8",
   "metadata": {},
   "outputs": [],
   "source": [
    "X_tr = np.column_stack((X_tr,np.array(X_res.iloc[:,6])))\n",
    "X_tr = np.column_stack((X_tr,np.array(X_res.iloc[:,7])))\n",
    "X_tr = np.column_stack((X_tr,np.array(X_res.iloc[:,5])))\n",
    "X_tr = np.column_stack((X_tr,np.array(X_res.iloc[:,9])))"
   ]
  },
  {
   "cell_type": "code",
   "execution_count": null,
   "id": "9602a780",
   "metadata": {},
   "outputs": [],
   "source": [
    "name=[]\n",
    "for x in range(1,1501):\n",
    "    name.append(\"payload_byte_\"+str(x))\n",
    "name.append(\"ttl\")\n",
    "name.append(\"total_len\")\n",
    "name.append(\"protocol\")\n",
    "name.append(\"t_delta\")"
   ]
  },
  {
   "cell_type": "code",
   "execution_count": null,
   "id": "f1089d3a",
   "metadata": {},
   "outputs": [],
   "source": [
    "df = pd.DataFrame(X_tr, columns=name)\n",
    "df['label']=Ytrain"
   ]
  },
  {
   "cell_type": "code",
   "execution_count": null,
   "id": "94706103",
   "metadata": {},
   "outputs": [],
   "source": [
    "df.to_csv(\"F:/Converted_data_CICIDS.csv\",index=False)"
   ]
  },
  {
   "cell_type": "markdown",
   "id": "c9ec5cfb",
   "metadata": {},
   "source": [
    "## Extra Code/ Conversion Epoch"
   ]
  },
  {
   "cell_type": "code",
   "execution_count": null,
   "id": "d36998f3",
   "metadata": {},
   "outputs": [],
   "source": [
    "df_payload['stime'].fillna(df_payload['stime_y'],inplace=True)\n",
    "df_payload.pop('stime_y')"
   ]
  },
  {
   "cell_type": "markdown",
   "id": "4047605a",
   "metadata": {},
   "source": [
    "### Transformation into epoch Format"
   ]
  },
  {
   "cell_type": "code",
   "execution_count": null,
   "id": "9c219d33",
   "metadata": {},
   "outputs": [],
   "source": [
    "x='04/07/2017 09:20:00' \n",
    "x=(datetime.strptime(x, '%d/%m/%Y %H:%M:%S'))\n",
    "x=datetime(x.year,x.month,x.day,(x.hour+3),x.minute,x.second,tzinfo=timezone.utc)\n",
    "x.timestamp()"
   ]
  },
  {
   "cell_type": "code",
   "execution_count": null,
   "id": "8ef9b1ba",
   "metadata": {},
   "outputs": [],
   "source": [
    "## AFter utc\n",
    "int((datetime(x.year,x.month,x.day,(x.hour),x.minute,x.second,tzinfo=timezone.utc)).timestamp())"
   ]
  }
 ],
 "metadata": {
  "kernelspec": {
   "display_name": "Python 3 (ipykernel)",
   "language": "python",
   "name": "python3"
  },
  "language_info": {
   "codemirror_mode": {
    "name": "ipython",
    "version": 3
   },
   "file_extension": ".py",
   "mimetype": "text/x-python",
   "name": "python",
   "nbconvert_exporter": "python",
   "pygments_lexer": "ipython3",
   "version": "3.7.13"
  }
 },
 "nbformat": 4,
 "nbformat_minor": 5
}
