{
 "cells": [
  {
   "cell_type": "markdown",
   "id": "47a0d8cb",
   "metadata": {},
   "source": [
    "## Component-Wise Extraction & Labeling of UNSW PCAP files \n",
    "\n",
    "This approach comprises of extracting pcap file features utilizing developed pcap parser. Then utilizing it for comparison and labelling. Prominent steps for this approach are:\n",
    "1. Extract Pcap file features into csv using developed parser. \n",
    "2. Perform labelling by comparing pre-processed UNSW CSV file and pcap parsed file (in .csv format).This approach compares both file using 8 distinct features which are :\n",
    "> a)  Start Time(*stime*) \n",
    ">\n",
    "> b)  Last Time(*ltime*)\n",
    ">\n",
    "> c)  Source IP Address(*srcip*) \n",
    ">\n",
    "> d)  Destination IP Address(*dstip*)\n",
    ">\n",
    "> e)  Destination Port Number(*dsport*)\n",
    ">\n",
    "> f)  Source Port Numbe(*sport*)\n",
    ">\n",
    "> g)  Source Time to Live Value (*sttl*)\n",
    ">\n",
    "> h)  Transaction Protocol(*protocol_m*)\n",
    "            \n",
    "3. Transform data into byte-wise features for machine learning models\n"
   ]
  },
  {
   "cell_type": "code",
   "execution_count": null,
   "id": "b8074280",
   "metadata": {},
   "outputs": [],
   "source": [
    "import sys\n",
    "sys.path.append(\"C:\\\\Users\\\\yasir.ali\\\\Project\\\\Payload-Byte\")\n",
    "## append your project path if its not already present"
   ]
  },
  {
   "cell_type": "code",
   "execution_count": null,
   "id": "7ff3f6f5",
   "metadata": {},
   "outputs": [],
   "source": [
    "import hashlib as hl\n",
    "import csv\n",
    "from os import close\n",
    "import numpy as np\n",
    "import logging\n",
    "import argparse\n",
    "import sys\n",
    "from datetime import datetime\n",
    "import socket\n",
    "import math\n",
    "import random\n",
    "import pandas as pd\n",
    "import scapy.all as sc\n",
    "import seaborn as sns\n",
    "import matplotlib.pyplot as plt\n",
    "from imblearn.under_sampling import RandomUnderSampler \n",
    "import logging\n",
    "import sys\n",
    "from functions.Optimized_Parser_Labelling import *\n",
    "from functions.Pipeline import *"
   ]
  },
  {
   "cell_type": "markdown",
   "id": "4054ae64",
   "metadata": {},
   "source": [
    "## Parsing Pcap Files into CSV format"
   ]
  },
  {
   "cell_type": "code",
   "execution_count": null,
   "id": "b1a4d70f",
   "metadata": {},
   "outputs": [],
   "source": [
    "root = logging.getLogger()\n",
    "root.setLevel(logging.DEBUG)"
   ]
  },
  {
   "cell_type": "code",
   "execution_count": null,
   "id": "1e71c79c",
   "metadata": {},
   "outputs": [],
   "source": [
    "out_file='G:/UNSW_result/pcap_file_csv_parser/17-2-1015/'\n",
    "pcap='F:/UNSW_pcap/17-2-2015/' ## Change directory for 22-01-2015\n",
    "pcap_file=[]\n",
    "for x in range(1,28): ## Starting & Ending values for the files\n",
    "    pcap_file.append(pcap+str(x)+\".pcap\")"
   ]
  },
  {
   "cell_type": "code",
   "execution_count": null,
   "id": "d99f54ac",
   "metadata": {},
   "outputs": [],
   "source": [
    "pcap_parser(pcap_file,out_file,1)"
   ]
  },
  {
   "cell_type": "markdown",
   "id": "9c14f35c",
   "metadata": {},
   "source": [
    "## Labelling "
   ]
  },
  {
   "cell_type": "code",
   "execution_count": null,
   "id": "fb5ae052",
   "metadata": {},
   "outputs": [],
   "source": [
    "df_p=pd.read_csv(\"E:/UNSW-NB15 Dataset/UNSW-NB15-CSV-Files/Preprocessed-CSV/UNSW-NB15_processed.csv\")\n",
    "df_p=df_p[['stime','ltime','srcip','dstip','dsport','sport','sttl','proto','dur','attack_cat','label']]\n",
    "df_p=df_p.sort_values(by='stime')"
   ]
  },
  {
   "cell_type": "code",
   "execution_count": null,
   "id": "f6b3d26e",
   "metadata": {},
   "outputs": [],
   "source": [
    "pcap='G:/UNSW_result/pcap_file_csv_parser/'\n",
    "pcap_csv=[]\n",
    "for x in range(1,53): ## Starting & Ending values for the files\n",
    "    pcap_csv.append(pcap+\"pcap_csv_\"+str(x)+\".csv\")\n",
    "UNSW_csv=\"E:/UNSW-NB15 Dataset/UNSW-NB15-CSV-Files/Preprocessed-CSV/UNSW-NB15_processed_v4.csv\"\n",
    "output_file=\"G:/UNSW_result/Labelled_pcap_file/22-1-2015/\""
   ]
  },
  {
   "cell_type": "code",
   "execution_count": null,
   "id": "349a7144",
   "metadata": {
    "scrolled": false
   },
   "outputs": [],
   "source": [
    "file_num= 1\n",
    "label(pcap_csv,UNSW_csv,output_file,file_num)"
   ]
  },
  {
   "cell_type": "markdown",
   "id": "6c7d88d8",
   "metadata": {},
   "source": [
    "## Reading and Combining All Labelled Files"
   ]
  },
  {
   "cell_type": "code",
   "execution_count": null,
   "id": "8e234d6f",
   "metadata": {},
   "outputs": [],
   "source": [
    "## For 22-1-2015 Day\n",
    "label_csv=\"G:/UNSW_result/Labelled_pcap_file/22-1-2015/\"\n",
    "in_file=[]\n",
    "for x in range(1,53): ## Starting & Ending values for the files\n",
    "    in_file.append(label_csv+\"labelled_pcap_csv_\"+str(x)+\".csv\")\n"
   ]
  },
  {
   "cell_type": "code",
   "execution_count": null,
   "id": "d3df2cd2",
   "metadata": {},
   "outputs": [],
   "source": [
    "## For 17-2-2015 Day\n",
    "a=[]\n",
    "label_csv=\"G:/UNSW_result/Labelled_pcap_file/17-2-2015/\"\n",
    "for x in range(1,27): ## Starting & Ending values for the files\n",
    "    a.append(label_csv+\"labelled_pcap_csv_\"+str(x)+\".csv\")\n",
    "    \n",
    "a=a+in_file\n",
    "out_path=\"G:/UNSW_result/Labelled_pcap_file/\""
   ]
  },
  {
   "cell_type": "code",
   "execution_count": null,
   "id": "322f631b",
   "metadata": {},
   "outputs": [],
   "source": [
    "df_payload=combine(a,out_path)\n",
    "df_payload.shape"
   ]
  },
  {
   "cell_type": "markdown",
   "id": "be73e8fb",
   "metadata": {},
   "source": [
    "## Pre-processing Combined Payload File"
   ]
  },
  {
   "cell_type": "code",
   "execution_count": null,
   "id": "8bd5e3da",
   "metadata": {},
   "outputs": [],
   "source": [
    "df_payload.drop_duplicates(inplace=True)\n",
    "df_payload.drop(df_payload[df_payload.payload.isnull()].index,inplace=True)"
   ]
  },
  {
   "cell_type": "code",
   "execution_count": null,
   "id": "d273cd42",
   "metadata": {},
   "outputs": [],
   "source": [
    "df_payload['payload_int'] = df_payload['payload'].apply(int, base=16)\n",
    "df_payload.drop(df_payload[df_payload.payload_int==0].index,inplace=True)"
   ]
  },
  {
   "cell_type": "code",
   "execution_count": null,
   "id": "a8122ea3",
   "metadata": {},
   "outputs": [],
   "source": [
    "df_payload.pop('payload_int')\n",
    "df_payload.sort_values(by=['stime','frame_num'],inplace=True,ignore_index=True)"
   ]
  },
  {
   "cell_type": "code",
   "execution_count": null,
   "id": "246d6dbe",
   "metadata": {},
   "outputs": [],
   "source": [
    "df_payload.sttl=df_payload.sttl.astype('int32')\n",
    "df_payload.dsport=df_payload.dsport.astype('int32')\n",
    "df_payload.sport=df_payload.sport.astype('int32')\n",
    "df_payload.total_len=df_payload.total_len.astype('int32')\n",
    "df_payload.to_csv(\"G:/UNSW_result/Labelled_pcap_file/combined_labelled_cleaned_sorted_pcap_csv.csv\",index=False)"
   ]
  },
  {
   "cell_type": "markdown",
   "id": "4482ed3f",
   "metadata": {},
   "source": [
    "## Transformation into Byte-wise Features"
   ]
  },
  {
   "cell_type": "code",
   "execution_count": null,
   "id": "8d8650be",
   "metadata": {},
   "outputs": [],
   "source": [
    "## Undersampling Data instances\n",
    "dict={ 'generic':17580,\n",
    "'exploits':13992,\n",
    "'fuzzers'  : 12722,\n",
    "'reconnaissance': 7562,\n",
    "'dos'  : 3397,\n",
    "'backdoor' :   1239,\n",
    "'analysis' :  1208,\n",
    "'shellcode': 1088,\n",
    "'normal': 21000,\n",
    "'worms':  93\n",
    "}"
   ]
  },
  {
   "cell_type": "code",
   "execution_count": null,
   "id": "669842b7",
   "metadata": {},
   "outputs": [],
   "source": [
    "rus = RandomUnderSampler(random_state=42,sampling_strategy=dict)\n",
    "X_res, y_res = rus.fit_resample(df_payload.iloc[:,:-2], df_payload.iloc[:,-2])"
   ]
  },
  {
   "cell_type": "code",
   "execution_count": null,
   "id": "7763aaaf",
   "metadata": {},
   "outputs": [],
   "source": [
    "from sklearn.preprocessing import LabelEncoder\n",
    "le = LabelEncoder()\n",
    "label = le.fit_transform(X_res['protocol_m'])\n",
    "X_res['protocol']=label\n",
    "\n",
    "X_res.drop(\"protocol_m\", axis=1, inplace=True)\n",
    "X_res.drop(\"protocol_s\", axis=1, inplace=True)\n",
    "X_res.drop(\"frame_num\", axis=1, inplace=True)\n",
    "\n",
    "X_res['attack_cat']=y_res"
   ]
  },
  {
   "cell_type": "code",
   "execution_count": null,
   "id": "39bf7c71",
   "metadata": {},
   "outputs": [],
   "source": [
    "X_tr,Ytrain =payload_to_bytes(X_res,1500)"
   ]
  },
  {
   "cell_type": "code",
   "execution_count": null,
   "id": "a28939d3",
   "metadata": {},
   "outputs": [],
   "source": [
    "X_tr = np.column_stack((X_tr,np.array(X_res.iloc[:,6])))\n",
    "X_tr = np.column_stack((X_tr,np.array(X_res.iloc[:,7])))\n",
    "X_tr = np.column_stack((X_tr,np.array(X_res.iloc[:,5])))\n",
    "X_tr = np.column_stack((X_tr,np.array(X_res.iloc[:,9])))"
   ]
  },
  {
   "cell_type": "code",
   "execution_count": null,
   "id": "681e6efe",
   "metadata": {},
   "outputs": [],
   "source": [
    "name=[]\n",
    "for x in range(1,1501):\n",
    "    name.append(\"payload_byte_\"+str(x))\n",
    "name.append(\"ttl\")\n",
    "name.append(\"total_len\")\n",
    "name.append(\"protocol\")\n",
    "name.append(\"t_delta\")"
   ]
  },
  {
   "cell_type": "code",
   "execution_count": null,
   "id": "c9d56f7c",
   "metadata": {},
   "outputs": [],
   "source": [
    "df = pd.DataFrame(X_tr, columns=name)\n",
    "df['label']=Ytrain"
   ]
  },
  {
   "cell_type": "code",
   "execution_count": null,
   "id": "a312145f",
   "metadata": {},
   "outputs": [],
   "source": [
    "df.to_csv(\"F:/Converted_data.csv\",index=False)"
   ]
  }
 ],
 "metadata": {
  "kernelspec": {
   "display_name": "Python 3 (ipykernel)",
   "language": "python",
   "name": "python3"
  },
  "language_info": {
   "codemirror_mode": {
    "name": "ipython",
    "version": 3
   },
   "file_extension": ".py",
   "mimetype": "text/x-python",
   "name": "python",
   "nbconvert_exporter": "python",
   "pygments_lexer": "ipython3",
   "version": "3.7.13"
  }
 },
 "nbformat": 4,
 "nbformat_minor": 5
}
